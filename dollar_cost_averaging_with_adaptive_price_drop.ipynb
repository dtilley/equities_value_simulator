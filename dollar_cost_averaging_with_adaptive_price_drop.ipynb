{
 "cells": [
  {
   "cell_type": "markdown",
   "id": "abe65675",
   "metadata": {},
   "source": [
    "# Improving dollar-cost averaging strategy by dynamically prioritizing stocks experiencing significant price drops"
   ]
  },
  {
   "cell_type": "markdown",
   "id": "38553199",
   "metadata": {},
   "source": [
    "***Motivation:*** *I am transitioning to a career in quantitative finance. I developed this project after reading Burton Malkiel's* **A Random Walk Down Wall Street**. *I really enjoyed the book and sparked some curiosity to build a data pipeline and do some of my own analysis. DCA is so simple and it was fun to think through it.*"
   ]
  },
  {
   "cell_type": "markdown",
   "id": "08dfbd18",
   "metadata": {},
   "source": [
    "## 1. Introduction"
   ]
  },
  {
   "cell_type": "markdown",
   "id": "33a31a2f",
   "metadata": {},
   "source": [
    "### *What is Dollar-Cost Averaging?*\n",
    "\n",
    "Dollar-Cost averaging (DCA) is a simple investment strategy in which a fixed dollar amount is invested at regular intervals. In practice employing the DCA strategy can reduce the average purchase price of shares. The strategy works because as stock prices fluctuate the fixed investment amount purchases more shares when the price is low and fewer shares when prices rise. In addition, I developed the Adaptive Price-Drop (APD) strategy, which allocates portfolio weights based on percentile-based price changes across assets.\n",
    "\n",
    "**Let's start with an example of the DCA strategy with a single stock.**"
   ]
  },
  {
   "cell_type": "code",
   "execution_count": 6,
   "id": "b570c79e",
   "metadata": {},
   "outputs": [],
   "source": [
    "# Date imports\n",
    "import datetime\n",
    "from dateutil.relativedelta import relativedelta\n",
    "# Visualization imports\n",
    "import matplotlib.pyplot as plt\n",
    "import matplotlib.dates as mdates\n",
    "import seaborn as sns\n",
    "sns.set_theme()\n",
    "\n",
    "%matplotlib inline"
   ]
  },
  {
   "cell_type": "markdown",
   "id": "55ea3ff3",
   "metadata": {},
   "source": [
    "### Code Structure\n",
    "\n",
    "DCA is a long-term investment strategy and is frequently implemented in 401(k) and other retirement savings plans. The strategy works well when the investor invests a percentage of a paycheck. In order simulate the traditional DCA strategy as well as the Adaptive Price-Drop (APD) strategy with real stock prices I developed the Equities Toolkit. The `equities_toolkit.py` file contains the core classes and functionality.\n",
    "\n",
    "- **Load and process stock data** with the `Stock` class, which retrieves historical data, adjusts for inflation, and prepares individual assets for analysis.\n",
    "- **Combine stocks into a portfolio** using the `Stocks_Composite` class, creating a custom market index with weighted components for diversified investing.\n",
    "- **Simulate investor behavior** with the `Investor` class, including periodic cash flows, total invested calculation, and investment tracking.\n",
    "- **Apply the Adaptive Price-Drop strategy** through the `Adaptive_Price_Drop` class, which automatically adjusts investments based on the relative price change of each stock.\n",
    "\n",
    "### Let's simulate the DCA strategy purchasing `$500` worth of $\\color{red}{\\text{Exxon Mobil}}$ (XOM) shares over a period of 2 years."
   ]
  },
  {
   "cell_type": "code",
   "execution_count": 2,
   "id": "adc802c9",
   "metadata": {},
   "outputs": [],
   "source": [
    "# Import the equities_toolkit.py\n",
    "import equities_toolkit as etk"
   ]
  },
  {
   "cell_type": "markdown",
   "id": "d1f4e8b3",
   "metadata": {},
   "source": [
    "The Equities Toolkit uses the `yfinance` package to retrieve historical stock prices. The `Stock` class from the Equities Toolkit adds functionality to the `yfinance` `ticker` object. Let's create the XOM object and download the price history for the previous 2 years."
   ]
  },
  {
   "cell_type": "code",
   "execution_count": 7,
   "id": "cdf2946b",
   "metadata": {},
   "outputs": [],
   "source": [
    "xom = etk.Stock('XOM')"
   ]
  },
  {
   "cell_type": "code",
   "execution_count": 30,
   "id": "09ac298e",
   "metadata": {},
   "outputs": [],
   "source": [
    "# For consistancy I'm setting the end date to 10/17/2024\n",
    "end=datetime.datetime(2024, 10, 17).date()\n",
    "start = end + relativedelta(weeks=-104)  # Two years back\n",
    "xom.download_history(start=start, end=end)"
   ]
  },
  {
   "cell_type": "code",
   "execution_count": 31,
   "id": "d0e91f51",
   "metadata": {
    "scrolled": true
   },
   "outputs": [
    {
     "data": {
      "text/html": [
       "<div>\n",
       "<style scoped>\n",
       "    .dataframe tbody tr th:only-of-type {\n",
       "        vertical-align: middle;\n",
       "    }\n",
       "\n",
       "    .dataframe tbody tr th {\n",
       "        vertical-align: top;\n",
       "    }\n",
       "\n",
       "    .dataframe thead th {\n",
       "        text-align: right;\n",
       "    }\n",
       "</style>\n",
       "<table border=\"1\" class=\"dataframe\">\n",
       "  <thead>\n",
       "    <tr style=\"text-align: right;\">\n",
       "      <th></th>\n",
       "      <th>Date</th>\n",
       "      <th>Close</th>\n",
       "      <th>Volume</th>\n",
       "      <th>Dividends</th>\n",
       "      <th>Inflation_Adj</th>\n",
       "    </tr>\n",
       "  </thead>\n",
       "  <tbody>\n",
       "    <tr>\n",
       "      <th>0</th>\n",
       "      <td>2022-10-17</td>\n",
       "      <td>99.004799</td>\n",
       "      <td>40463100</td>\n",
       "      <td>0.00</td>\n",
       "      <td>104.748507</td>\n",
       "    </tr>\n",
       "    <tr>\n",
       "      <th>1</th>\n",
       "      <td>2022-10-24</td>\n",
       "      <td>103.531372</td>\n",
       "      <td>96511200</td>\n",
       "      <td>0.00</td>\n",
       "      <td>109.537687</td>\n",
       "    </tr>\n",
       "    <tr>\n",
       "      <th>2</th>\n",
       "      <td>2022-10-31</td>\n",
       "      <td>105.037102</td>\n",
       "      <td>103914300</td>\n",
       "      <td>0.00</td>\n",
       "      <td>111.130771</td>\n",
       "    </tr>\n",
       "    <tr>\n",
       "      <th>3</th>\n",
       "      <td>2022-11-07</td>\n",
       "      <td>106.570908</td>\n",
       "      <td>90857400</td>\n",
       "      <td>0.00</td>\n",
       "      <td>112.867559</td>\n",
       "    </tr>\n",
       "    <tr>\n",
       "      <th>4</th>\n",
       "      <td>2022-11-14</td>\n",
       "      <td>104.822006</td>\n",
       "      <td>81664000</td>\n",
       "      <td>0.91</td>\n",
       "      <td>111.015325</td>\n",
       "    </tr>\n",
       "  </tbody>\n",
       "</table>\n",
       "</div>"
      ],
      "text/plain": [
       "         Date       Close     Volume  Dividends  Inflation_Adj\n",
       "0  2022-10-17   99.004799   40463100       0.00     104.748507\n",
       "1  2022-10-24  103.531372   96511200       0.00     109.537687\n",
       "2  2022-10-31  105.037102  103914300       0.00     111.130771\n",
       "3  2022-11-07  106.570908   90857400       0.00     112.867559\n",
       "4  2022-11-14  104.822006   81664000       0.91     111.015325"
      ]
     },
     "execution_count": 31,
     "metadata": {},
     "output_type": "execute_result"
    }
   ],
   "source": [
    "xom.price_history.head()"
   ]
  },
  {
   "cell_type": "markdown",
   "id": "f59094c8",
   "metadata": {},
   "source": [
    "Since this example only purchases a shares in XOM we can calculate the strategy **manually**. For demonstrative purposes, I am also going to allow the partial shares."
   ]
  },
  {
   "cell_type": "code",
   "execution_count": 32,
   "id": "dcfef7e5",
   "metadata": {},
   "outputs": [],
   "source": [
    "# Clean up the data\n",
    "xom.price_history.drop(columns=['Volume', 'Dividends'], inplace=True)"
   ]
  },
  {
   "cell_type": "code",
   "execution_count": 33,
   "id": "0a8dbe43",
   "metadata": {},
   "outputs": [
    {
     "data": {
      "text/html": [
       "<div>\n",
       "<style scoped>\n",
       "    .dataframe tbody tr th:only-of-type {\n",
       "        vertical-align: middle;\n",
       "    }\n",
       "\n",
       "    .dataframe tbody tr th {\n",
       "        vertical-align: top;\n",
       "    }\n",
       "\n",
       "    .dataframe thead th {\n",
       "        text-align: right;\n",
       "    }\n",
       "</style>\n",
       "<table border=\"1\" class=\"dataframe\">\n",
       "  <thead>\n",
       "    <tr style=\"text-align: right;\">\n",
       "      <th></th>\n",
       "      <th>Date</th>\n",
       "      <th>Close</th>\n",
       "      <th>Inflation_Adj</th>\n",
       "    </tr>\n",
       "  </thead>\n",
       "  <tbody>\n",
       "    <tr>\n",
       "      <th>0</th>\n",
       "      <td>2022-10-17</td>\n",
       "      <td>99.004799</td>\n",
       "      <td>104.748507</td>\n",
       "    </tr>\n",
       "    <tr>\n",
       "      <th>1</th>\n",
       "      <td>2022-10-24</td>\n",
       "      <td>103.531372</td>\n",
       "      <td>109.537687</td>\n",
       "    </tr>\n",
       "    <tr>\n",
       "      <th>2</th>\n",
       "      <td>2022-10-31</td>\n",
       "      <td>105.037102</td>\n",
       "      <td>111.130771</td>\n",
       "    </tr>\n",
       "    <tr>\n",
       "      <th>3</th>\n",
       "      <td>2022-11-07</td>\n",
       "      <td>106.570908</td>\n",
       "      <td>112.867559</td>\n",
       "    </tr>\n",
       "    <tr>\n",
       "      <th>4</th>\n",
       "      <td>2022-11-14</td>\n",
       "      <td>104.822006</td>\n",
       "      <td>111.015325</td>\n",
       "    </tr>\n",
       "  </tbody>\n",
       "</table>\n",
       "</div>"
      ],
      "text/plain": [
       "         Date       Close  Inflation_Adj\n",
       "0  2022-10-17   99.004799     104.748507\n",
       "1  2022-10-24  103.531372     109.537687\n",
       "2  2022-10-31  105.037102     111.130771\n",
       "3  2022-11-07  106.570908     112.867559\n",
       "4  2022-11-14  104.822006     111.015325"
      ]
     },
     "execution_count": 33,
     "metadata": {},
     "output_type": "execute_result"
    }
   ],
   "source": [
    "xom.price_history.head()"
   ]
  },
  {
   "cell_type": "code",
   "execution_count": 35,
   "id": "f9ccba2c",
   "metadata": {},
   "outputs": [],
   "source": [
    "xom_dca = xom.price_history.loc[::2].copy() # Select investments at 2 week intervals"
   ]
  },
  {
   "cell_type": "code",
   "execution_count": 37,
   "id": "307407f0",
   "metadata": {},
   "outputs": [],
   "source": [
    "xom_dca['Cost'] = 500.0 # Set fixed investment amount"
   ]
  },
  {
   "cell_type": "code",
   "execution_count": 40,
   "id": "9837db35",
   "metadata": {},
   "outputs": [],
   "source": [
    "xom_dca['Cum_Cost'] = xom_dca.Cost.cumsum() # Calculate cummulative cost "
   ]
  },
  {
   "cell_type": "code",
   "execution_count": 41,
   "id": "4a1d9512",
   "metadata": {
    "scrolled": true
   },
   "outputs": [
    {
     "data": {
      "text/html": [
       "<div>\n",
       "<style scoped>\n",
       "    .dataframe tbody tr th:only-of-type {\n",
       "        vertical-align: middle;\n",
       "    }\n",
       "\n",
       "    .dataframe tbody tr th {\n",
       "        vertical-align: top;\n",
       "    }\n",
       "\n",
       "    .dataframe thead th {\n",
       "        text-align: right;\n",
       "    }\n",
       "</style>\n",
       "<table border=\"1\" class=\"dataframe\">\n",
       "  <thead>\n",
       "    <tr style=\"text-align: right;\">\n",
       "      <th></th>\n",
       "      <th>Date</th>\n",
       "      <th>Close</th>\n",
       "      <th>Inflation_Adj</th>\n",
       "      <th>Cost</th>\n",
       "      <th>Cum_Cost</th>\n",
       "    </tr>\n",
       "  </thead>\n",
       "  <tbody>\n",
       "    <tr>\n",
       "      <th>0</th>\n",
       "      <td>2022-10-17</td>\n",
       "      <td>99.004799</td>\n",
       "      <td>104.748507</td>\n",
       "      <td>500.0</td>\n",
       "      <td>500.0</td>\n",
       "    </tr>\n",
       "    <tr>\n",
       "      <th>2</th>\n",
       "      <td>2022-10-31</td>\n",
       "      <td>105.037102</td>\n",
       "      <td>111.130771</td>\n",
       "      <td>500.0</td>\n",
       "      <td>1000.0</td>\n",
       "    </tr>\n",
       "    <tr>\n",
       "      <th>4</th>\n",
       "      <td>2022-11-14</td>\n",
       "      <td>104.822006</td>\n",
       "      <td>111.015325</td>\n",
       "      <td>500.0</td>\n",
       "      <td>1500.0</td>\n",
       "    </tr>\n",
       "    <tr>\n",
       "      <th>6</th>\n",
       "      <td>2022-11-28</td>\n",
       "      <td>103.572899</td>\n",
       "      <td>109.692415</td>\n",
       "      <td>500.0</td>\n",
       "      <td>2000.0</td>\n",
       "    </tr>\n",
       "    <tr>\n",
       "      <th>8</th>\n",
       "      <td>2022-12-12</td>\n",
       "      <td>98.708183</td>\n",
       "      <td>104.862209</td>\n",
       "      <td>500.0</td>\n",
       "      <td>2500.0</td>\n",
       "    </tr>\n",
       "  </tbody>\n",
       "</table>\n",
       "</div>"
      ],
      "text/plain": [
       "         Date       Close  Inflation_Adj   Cost  Cum_Cost\n",
       "0  2022-10-17   99.004799     104.748507  500.0     500.0\n",
       "2  2022-10-31  105.037102     111.130771  500.0    1000.0\n",
       "4  2022-11-14  104.822006     111.015325  500.0    1500.0\n",
       "6  2022-11-28  103.572899     109.692415  500.0    2000.0\n",
       "8  2022-12-12   98.708183     104.862209  500.0    2500.0"
      ]
     },
     "execution_count": 41,
     "metadata": {},
     "output_type": "execute_result"
    }
   ],
   "source": [
    "xom_dca.head()"
   ]
  },
  {
   "cell_type": "code",
   "execution_count": 42,
   "id": "b4a4edc0",
   "metadata": {},
   "outputs": [],
   "source": [
    "xom_dca['Shares'] = xom_dca.Cost / xom_dca.Close # Calculate the number of shares\n",
    "xom_dca['Cum_Shares'] = xom_dca.Shares.cumsum() # Calculate the cummulative shares purchased"
   ]
  },
  {
   "cell_type": "code",
   "execution_count": 43,
   "id": "aebcb661",
   "metadata": {
    "scrolled": true
   },
   "outputs": [
    {
     "data": {
      "text/html": [
       "<div>\n",
       "<style scoped>\n",
       "    .dataframe tbody tr th:only-of-type {\n",
       "        vertical-align: middle;\n",
       "    }\n",
       "\n",
       "    .dataframe tbody tr th {\n",
       "        vertical-align: top;\n",
       "    }\n",
       "\n",
       "    .dataframe thead th {\n",
       "        text-align: right;\n",
       "    }\n",
       "</style>\n",
       "<table border=\"1\" class=\"dataframe\">\n",
       "  <thead>\n",
       "    <tr style=\"text-align: right;\">\n",
       "      <th></th>\n",
       "      <th>Date</th>\n",
       "      <th>Close</th>\n",
       "      <th>Inflation_Adj</th>\n",
       "      <th>Cost</th>\n",
       "      <th>Cum_Cost</th>\n",
       "      <th>Shares</th>\n",
       "      <th>Cum_Shares</th>\n",
       "    </tr>\n",
       "  </thead>\n",
       "  <tbody>\n",
       "    <tr>\n",
       "      <th>0</th>\n",
       "      <td>2022-10-17</td>\n",
       "      <td>99.004799</td>\n",
       "      <td>104.748507</td>\n",
       "      <td>500.0</td>\n",
       "      <td>500.0</td>\n",
       "      <td>5.050260</td>\n",
       "      <td>5.050260</td>\n",
       "    </tr>\n",
       "    <tr>\n",
       "      <th>2</th>\n",
       "      <td>2022-10-31</td>\n",
       "      <td>105.037102</td>\n",
       "      <td>111.130771</td>\n",
       "      <td>500.0</td>\n",
       "      <td>1000.0</td>\n",
       "      <td>4.760223</td>\n",
       "      <td>9.810483</td>\n",
       "    </tr>\n",
       "    <tr>\n",
       "      <th>4</th>\n",
       "      <td>2022-11-14</td>\n",
       "      <td>104.822006</td>\n",
       "      <td>111.015325</td>\n",
       "      <td>500.0</td>\n",
       "      <td>1500.0</td>\n",
       "      <td>4.769991</td>\n",
       "      <td>14.580474</td>\n",
       "    </tr>\n",
       "    <tr>\n",
       "      <th>6</th>\n",
       "      <td>2022-11-28</td>\n",
       "      <td>103.572899</td>\n",
       "      <td>109.692415</td>\n",
       "      <td>500.0</td>\n",
       "      <td>2000.0</td>\n",
       "      <td>4.827518</td>\n",
       "      <td>19.407991</td>\n",
       "    </tr>\n",
       "    <tr>\n",
       "      <th>8</th>\n",
       "      <td>2022-12-12</td>\n",
       "      <td>98.708183</td>\n",
       "      <td>104.862209</td>\n",
       "      <td>500.0</td>\n",
       "      <td>2500.0</td>\n",
       "      <td>5.065436</td>\n",
       "      <td>24.473428</td>\n",
       "    </tr>\n",
       "  </tbody>\n",
       "</table>\n",
       "</div>"
      ],
      "text/plain": [
       "         Date       Close  Inflation_Adj   Cost  Cum_Cost    Shares  \\\n",
       "0  2022-10-17   99.004799     104.748507  500.0     500.0  5.050260   \n",
       "2  2022-10-31  105.037102     111.130771  500.0    1000.0  4.760223   \n",
       "4  2022-11-14  104.822006     111.015325  500.0    1500.0  4.769991   \n",
       "6  2022-11-28  103.572899     109.692415  500.0    2000.0  4.827518   \n",
       "8  2022-12-12   98.708183     104.862209  500.0    2500.0  5.065436   \n",
       "\n",
       "   Cum_Shares  \n",
       "0    5.050260  \n",
       "2    9.810483  \n",
       "4   14.580474  \n",
       "6   19.407991  \n",
       "8   24.473428  "
      ]
     },
     "execution_count": 43,
     "metadata": {},
     "output_type": "execute_result"
    }
   ],
   "source": [
    "xom_dca.head()"
   ]
  },
  {
   "cell_type": "code",
   "execution_count": 44,
   "id": "20a35957",
   "metadata": {},
   "outputs": [],
   "source": [
    "# Calcuate the total value of the portfolio throughout time\n",
    "xom_dca['value']= xom_dca.apply(lambda x: x.Close * x.Cum_Shares, axis=1)"
   ]
  },
  {
   "cell_type": "code",
   "execution_count": 45,
   "id": "d6c1814d",
   "metadata": {},
   "outputs": [],
   "source": [
    "total_shares = xom_dca.Cum_Shares.max()  # The final total amount to shares"
   ]
  },
  {
   "cell_type": "markdown",
   "id": "a27bc148",
   "metadata": {},
   "source": [
    "**The objective of using the DCA strategy is to lower the average purchase price per share. We will compare it to the average share price over the same period.**"
   ]
  },
  {
   "cell_type": "code",
   "execution_count": 46,
   "id": "b0b6adf4",
   "metadata": {},
   "outputs": [
    {
     "name": "stdout",
     "output_type": "stream",
     "text": [
      "106.7735991853189 6.963199508770648\n"
     ]
    }
   ],
   "source": [
    "avg_pps, std_pps = etk.weighted_avg_and_std(xom_dca.Close, xom_dca.Shares)\n",
    "print(avg_pps, std_pps)"
   ]
  },
  {
   "cell_type": "code",
   "execution_count": 47,
   "id": "216defbf",
   "metadata": {
    "scrolled": true
   },
   "outputs": [
    {
     "data": {
      "text/plain": [
       "count    105.000000\n",
       "mean     107.040947\n",
       "std        7.025903\n",
       "min       94.522354\n",
       "25%      101.132591\n",
       "50%      105.515007\n",
       "75%      112.464569\n",
       "max      124.830002\n",
       "Name: Close, dtype: float64"
      ]
     },
     "execution_count": 47,
     "metadata": {},
     "output_type": "execute_result"
    }
   ],
   "source": [
    "xom.price_history.Close.describe()"
   ]
  },
  {
   "cell_type": "code",
   "execution_count": 50,
   "id": "76423243",
   "metadata": {
    "scrolled": true
   },
   "outputs": [
    {
     "data": {
      "text/plain": [
       "-0.24976219117446907"
      ]
     },
     "execution_count": 50,
     "metadata": {},
     "output_type": "execute_result"
    }
   ],
   "source": [
    "# Calculate the percent difference in the mean share price\n",
    "percent_diff = ((106.7735991853189 - 107.040947) / 107.040947 ) * 100\n",
    "percent_diff"
   ]
  },
  {
   "cell_type": "code",
   "execution_count": 54,
   "id": "4e6d45e2",
   "metadata": {},
   "outputs": [
    {
     "name": "stdout",
     "output_type": "stream",
     "text": [
      "Total Cost: $26500.0 Value: 29869.51 g/l: 12.72%\n"
     ]
    }
   ],
   "source": [
    "# Calculate the total gain/loss\n",
    "dca_gain = ((xom_dca.value.iloc[-1] / xom_dca.Cum_Cost.iloc[-1]) -1) * 100\n",
    "print(f\"Total Cost: ${xom_dca.Cum_Cost.iloc[-1]} Value: ${round(xom_dca.value.iloc[-1],2)} g/l: {round(dca_gain,2)}%\")"
   ]
  },
  {
   "cell_type": "code",
   "execution_count": 96,
   "id": "7f298ac6",
   "metadata": {
    "scrolled": true
   },
   "outputs": [],
   "source": [
    "# Save the data for tableau\n",
    "#xom.to_csv('xom_20221017-20241014.txt',index_label='week', sep=' ')\n",
    "#xom_dca.to_csv('xom_dca_20221017-20241014.txt', index_label='week', sep=' ')"
   ]
  },
  {
   "cell_type": "code",
   "execution_count": 56,
   "id": "6388b220",
   "metadata": {
    "scrolled": false
   },
   "outputs": [
    {
     "data": {
      "text/plain": [
       "86   -0.069504\n",
       "50   -0.067600\n",
       "18   -0.063504\n",
       "28   -0.063184\n",
       "38   -0.058835\n",
       "Name: Close, dtype: float64"
      ]
     },
     "execution_count": 56,
     "metadata": {},
     "output_type": "execute_result"
    }
   ],
   "source": [
    "xom_dca.Close.pct_change().sort_values().head()"
   ]
  },
  {
   "cell_type": "markdown",
   "id": "7cd764f0",
   "metadata": {},
   "source": [
    "### *Let's take a quick look at the distribution of the weekly price change.*"
   ]
  },
  {
   "cell_type": "code",
   "execution_count": 70,
   "id": "e62a556c",
   "metadata": {
    "scrolled": true
   },
   "outputs": [
    {
     "data": {
      "image/png": "[encoded data removed]",
      "text/plain": [
       "<Figure size 640x480 with 1 Axes>"
      ]
     },
     "metadata": {},
     "output_type": "display_data"
    }
   ],
   "source": [
    "sns.histplot(xom.price_history.Close.pct_change()*100)\n",
    "plt.tight_layout()\n",
    "plt.show()"
   ]
  },
  {
   "cell_type": "code",
   "execution_count": 71,
   "id": "55ca922e",
   "metadata": {},
   "outputs": [
    {
     "data": {
      "text/plain": [
       "count    10400.000000\n",
       "mean         0.237284\n",
       "std          3.145467\n",
       "min         -8.853547\n",
       "25%         -1.611464\n",
       "50%          0.810896\n",
       "75%          2.034516\n",
       "max          7.779315\n",
       "Name: Close, dtype: float64"
      ]
     },
     "execution_count": 71,
     "metadata": {},
     "output_type": "execute_result"
    }
   ],
   "source": [
    "xom.price_history.Close.pct_change().describe()*100"
   ]
  },
  {
   "cell_type": "code",
   "execution_count": 59,
   "id": "dbeae9ca",
   "metadata": {
    "scrolled": true
   },
   "outputs": [
    {
     "data": {
      "text/html": [
       "<div>\n",
       "<style scoped>\n",
       "    .dataframe tbody tr th:only-of-type {\n",
       "        vertical-align: middle;\n",
       "    }\n",
       "\n",
       "    .dataframe tbody tr th {\n",
       "        vertical-align: top;\n",
       "    }\n",
       "\n",
       "    .dataframe thead th {\n",
       "        text-align: right;\n",
       "    }\n",
       "</style>\n",
       "<table border=\"1\" class=\"dataframe\">\n",
       "  <thead>\n",
       "    <tr style=\"text-align: right;\">\n",
       "      <th></th>\n",
       "      <th>Date</th>\n",
       "      <th>Close</th>\n",
       "      <th>Inflation_Adj</th>\n",
       "      <th>Cost</th>\n",
       "      <th>Cum_Cost</th>\n",
       "      <th>Shares</th>\n",
       "      <th>Cum_Shares</th>\n",
       "      <th>value</th>\n",
       "    </tr>\n",
       "  </thead>\n",
       "  <tbody>\n",
       "    <tr>\n",
       "      <th>48</th>\n",
       "      <td>2023-09-18</td>\n",
       "      <td>111.046440</td>\n",
       "      <td>113.756676</td>\n",
       "      <td>500.0</td>\n",
       "      <td>12500.0</td>\n",
       "      <td>4.502621</td>\n",
       "      <td>119.998331</td>\n",
       "      <td>13325.387456</td>\n",
       "    </tr>\n",
       "    <tr>\n",
       "      <th>50</th>\n",
       "      <td>2023-10-02</td>\n",
       "      <td>103.539650</td>\n",
       "      <td>106.107352</td>\n",
       "      <td>500.0</td>\n",
       "      <td>13000.0</td>\n",
       "      <td>4.829068</td>\n",
       "      <td>124.827399</td>\n",
       "      <td>12924.585167</td>\n",
       "    </tr>\n",
       "    <tr>\n",
       "      <th>84</th>\n",
       "      <td>2024-05-27</td>\n",
       "      <td>116.323502</td>\n",
       "      <td>116.779804</td>\n",
       "      <td>500.0</td>\n",
       "      <td>21500.0</td>\n",
       "      <td>4.298358</td>\n",
       "      <td>204.969544</td>\n",
       "      <td>23842.775097</td>\n",
       "    </tr>\n",
       "    <tr>\n",
       "      <th>86</th>\n",
       "      <td>2024-06-10</td>\n",
       "      <td>108.238586</td>\n",
       "      <td>108.626512</td>\n",
       "      <td>500.0</td>\n",
       "      <td>22000.0</td>\n",
       "      <td>4.619425</td>\n",
       "      <td>209.588969</td>\n",
       "      <td>22685.613722</td>\n",
       "    </tr>\n",
       "  </tbody>\n",
       "</table>\n",
       "</div>"
      ],
      "text/plain": [
       "          Date       Close  Inflation_Adj   Cost  Cum_Cost    Shares  \\\n",
       "48  2023-09-18  111.046440     113.756676  500.0   12500.0  4.502621   \n",
       "50  2023-10-02  103.539650     106.107352  500.0   13000.0  4.829068   \n",
       "84  2024-05-27  116.323502     116.779804  500.0   21500.0  4.298358   \n",
       "86  2024-06-10  108.238586     108.626512  500.0   22000.0  4.619425   \n",
       "\n",
       "    Cum_Shares         value  \n",
       "48  119.998331  13325.387456  \n",
       "50  124.827399  12924.585167  \n",
       "84  204.969544  23842.775097  \n",
       "86  209.588969  22685.613722  "
      ]
     },
     "execution_count": 59,
     "metadata": {},
     "output_type": "execute_result"
    }
   ],
   "source": [
    "# Save the the largest two price drops to highlight in the visualization\n",
    "eg_purchase=xom_dca.loc[[48,50,84,86]]\n",
    "eg_purchase"
   ]
  },
  {
   "cell_type": "markdown",
   "id": "878efe01",
   "metadata": {},
   "source": [
    "The DCA strategy is commonly used with a buy and hold strategy and even over this two year window it did reduce the average price per share. The mean purchase price was reduced by -0.249%. It isn't a large reduction, but the DCA strategy has some vulnerabilities. If the stock price 'runs away' in either positive or negative direction the average purchase price will not be reduced during those market movements. \n",
    "\n",
    "### *Let's visualize the XOM share price over the period we applied the DCA strategy.*"
   ]
  },
  {
   "cell_type": "code",
   "execution_count": 60,
   "id": "e683e1ff",
   "metadata": {},
   "outputs": [],
   "source": [
    "# Set marker sizes\n",
    "xom_dca['mrkr_size'] = 10\n",
    "xom_dca.loc[[48,50,84,86], 'mrkr_size'] = 50 # points to highlight"
   ]
  },
  {
   "cell_type": "code",
   "execution_count": 61,
   "id": "07cab567",
   "metadata": {},
   "outputs": [],
   "source": [
    "# Annotation text from the eg_purchases\n",
    "annotation_txt = [' 4.5 Shares', ' 4.8 Shares', '4.3 Shares', '4.6 Shares']"
   ]
  },
  {
   "cell_type": "code",
   "execution_count": 62,
   "id": "48a09030",
   "metadata": {},
   "outputs": [],
   "source": [
    "# Save for tableau\n",
    "# eg_purchase.to_csv('eg_purchase_xom_dca.txt', index_label='week', sep=' ')"
   ]
  },
  {
   "cell_type": "code",
   "execution_count": 64,
   "id": "88e8b8fa",
   "metadata": {
    "scrolled": true
   },
   "outputs": [
    {
     "data": {
      "image/png": "[encoded data removed]",
      "text/plain": [
       "<Figure size 1000x600 with 1 Axes>"
      ]
     },
     "metadata": {},
     "output_type": "display_data"
    }
   ],
   "source": [
    "fig, ax = plt.subplots(figsize=(10,6))\n",
    "\n",
    "ax.plot(xom.price_history['Date'], xom.price_history['Close'], label='XOM Price', color='C0')\n",
    "ax.scatter(xom_dca['Date'], xom_dca['Close'], xom_dca['mrkr_size'], label='DCA $500/purchase', color='C3', marker='o')\n",
    "\n",
    "# Formatting the x-axis to show quarter ticks\n",
    "ax.xaxis.set_major_locator(mdates.MonthLocator(bymonth=(1, 4, 7, 10)))  # Quarterly ticks\n",
    "ax.xaxis.set_major_formatter(mdates.DateFormatter('%b\\n%Y'))  # Show month and year\n",
    "\n",
    "# Add annotation\n",
    "arrows = {'arrowstyle':'->', 'color': 'C3'}\n",
    "\n",
    "for i in range(len(annotation_txt)):\n",
    "    x = eg_purchase.Date.iloc[i]\n",
    "    y = eg_purchase.Close.iloc[i]\n",
    "    ax.annotate(annotation_txt[i], (x, y), xytext=(mdates.date2num(x)+4, y+4), arrowprops=arrows, color='C3')\n",
    "\n",
    "# Add labels and title\n",
    "ax.set_xlabel('')\n",
    "ax.set_ylabel('Close Price')\n",
    "ax.set_title('XOM Weekly Closing Prices')\n",
    "\n",
    "# Add grid and legend\n",
    "ax.grid(True)\n",
    "ax.legend()\n",
    "\n",
    "# Display the plot\n",
    "plt.tight_layout()\n",
    "plt.show()"
   ]
  },
  {
   "cell_type": "markdown",
   "id": "3112e4c5",
   "metadata": {},
   "source": [
    "*The price volatility is heterogenously distributed around the mean value of $107.04 and from week to week there is also variance in the magnitude of price changes. This offers some opportunities for DCA to be effective, but there is a period of steady price increases starting around January 2024.*\n",
    "\n",
    "Next, let's see how effective the DCA strategy is when applied to an Index fund."
   ]
  },
  {
   "cell_type": "markdown",
   "id": "f033b253",
   "metadata": {},
   "source": [
    "## 2. Five Blue-Chip Stock Index Fund"
   ]
  },
  {
   "cell_type": "markdown",
   "id": "901edcdb",
   "metadata": {},
   "source": [
    "DCA is commonly applied when investing in index or mutual funds because it lessens the burden on the investor to research each individual company. Index funds are great for passive investors and additionally offer some risk protection through diversification. I am going to evaluated a variation on applying DCA to an index fund by applying some analysis to the weekly returns of 5 blue-chip stocks that compose a market cap index fund."
   ]
  },
  {
   "cell_type": "code",
   "execution_count": 72,
   "id": "6d23a8c4",
   "metadata": {},
   "outputs": [],
   "source": [
    "# Define the stocks to include \n",
    "tickers = ['MSFT', 'ABBV', 'XOM', 'T', 'MMM']\n",
    "colors = ['C2', 'C1', 'C0', 'C3', 'C4'] # Assign colors for viz"
   ]
  },
  {
   "cell_type": "code",
   "execution_count": 74,
   "id": "fce1d041",
   "metadata": {},
   "outputs": [],
   "source": [
    "# I normally assign the end date to today, but for consistency I set it to when I first did this analysis\n",
    "end = datetime.datetime(2024, 10, 17)\n",
    "start = end + relativedelta(weeks=-208)  # 4 years of price history "
   ]
  },
  {
   "cell_type": "markdown",
   "id": "4994aa55",
   "metadata": {},
   "source": []
  },
  {
   "cell_type": "code",
   "execution_count": 226,
   "id": "1030da62",
   "metadata": {},
   "outputs": [],
   "source": [
    "bc5 = etk.Stocks_Composite(tickers, start=start, end=end, interval='1wk')"
   ]
  },
  {
   "cell_type": "code",
   "execution_count": 193,
   "id": "c21ef529",
   "metadata": {},
   "outputs": [
    {
     "data": {
      "image/png": "[encoded data removed]",
      "text/plain": [
       "<Figure size 720x432 with 1 Axes>"
      ]
     },
     "metadata": {},
     "output_type": "display_data"
    }
   ],
   "source": [
    "fig, ax = plt.subplots(figsize=(10,6))\n",
    "\n",
    "for i in range(len(tickers)):\n",
    "    date = bc5.stocks[tickers[i]].price_history.Date\n",
    "    ax.plot(date, bc5.stocks[tickers[i]].price_history.Close, label=tickers[i], color=colors[i])\n",
    "\n",
    "# Formatting the x-axis to show quarter ticks\n",
    "ax.xaxis.set_major_locator(mdates.MonthLocator(bymonth=(1, 4, 7, 10)))  # Quarterly ticks\n",
    "ax.xaxis.set_major_formatter(mdates.DateFormatter('%b\\n%Y'))  # Show month and year\n",
    "\n",
    "# Add labels and title\n",
    "ax.set_xlabel('')\n",
    "ax.set_ylabel('Price ($)')\n",
    "ax.set_title('Five Blue-chip Stocks Weekly Closing Prices')\n",
    "\n",
    "# Add grid and legend\n",
    "ax.grid(True)\n",
    "ax.legend()\n",
    "\n",
    "# Display the plot\n",
    "plt.tight_layout()\n",
    "plt.show()"
   ]
  },
  {
   "cell_type": "code",
   "execution_count": 182,
   "id": "f0b26a62",
   "metadata": {},
   "outputs": [],
   "source": [
    "bc5_weights = pd.DataFrame(bc5.weights, index=[0])"
   ]
  },
  {
   "cell_type": "code",
   "execution_count": 183,
   "id": "dcc17232",
   "metadata": {},
   "outputs": [],
   "source": [
    "bc5_weights.loc[0] =  round(bc5_weights.loc[0] * 100, 2)"
   ]
  },
  {
   "cell_type": "code",
   "execution_count": 184,
   "id": "d1e2de61",
   "metadata": {
    "scrolled": true
   },
   "outputs": [
    {
     "data": {
      "text/html": [
       "<div>\n",
       "<style scoped>\n",
       "    .dataframe tbody tr th:only-of-type {\n",
       "        vertical-align: middle;\n",
       "    }\n",
       "\n",
       "    .dataframe tbody tr th {\n",
       "        vertical-align: top;\n",
       "    }\n",
       "\n",
       "    .dataframe thead th {\n",
       "        text-align: right;\n",
       "    }\n",
       "</style>\n",
       "<table border=\"1\" class=\"dataframe\">\n",
       "  <thead>\n",
       "    <tr style=\"text-align: right;\">\n",
       "      <th></th>\n",
       "      <th>MSFT</th>\n",
       "      <th>ABBV</th>\n",
       "      <th>XOM</th>\n",
       "      <th>T</th>\n",
       "      <th>MMM</th>\n",
       "    </tr>\n",
       "  </thead>\n",
       "  <tbody>\n",
       "    <tr>\n",
       "      <th>0</th>\n",
       "      <td>73.9</td>\n",
       "      <td>7.93</td>\n",
       "      <td>12.68</td>\n",
       "      <td>3.73</td>\n",
       "      <td>1.77</td>\n",
       "    </tr>\n",
       "  </tbody>\n",
       "</table>\n",
       "</div>"
      ],
      "text/plain": [
       "   MSFT  ABBV    XOM     T   MMM\n",
       "0  73.9  7.93  12.68  3.73  1.77"
      ]
     },
     "execution_count": 184,
     "metadata": {},
     "output_type": "execute_result"
    }
   ],
   "source": [
    "bc5_weights"
   ]
  },
  {
   "cell_type": "code",
   "execution_count": 190,
   "id": "695bf71f",
   "metadata": {},
   "outputs": [],
   "source": [
    "bc5_weights.to_csv('mcap_weights.txt', sep=' ', index=False)"
   ]
  },
  {
   "cell_type": "code",
   "execution_count": 189,
   "id": "0e3de8c9",
   "metadata": {
    "scrolled": true
   },
   "outputs": [
    {
     "data": {
      "text/plain": [
       "Text(0, 0.5, 'Market Cap %')"
      ]
     },
     "execution_count": 189,
     "metadata": {},
     "output_type": "execute_result"
    },
    {
     "data": {
      "image/png": "[encoded data removed]",
      "text/plain": [
       "<Figure size 432x288 with 1 Axes>"
      ]
     },
     "metadata": {},
     "output_type": "display_data"
    }
   ],
   "source": [
    "plt.bar(x=range(bc5_weights.shape[1]), height=bc5_weights.loc[0], color=colors, tick_label=bc5_weights.columns)\n",
    "plt.ylabel('Market Cap %')"
   ]
  },
  {
   "cell_type": "code",
   "execution_count": 12,
   "id": "5fdcbbb1",
   "metadata": {},
   "outputs": [
    {
     "data": {
      "image/png": "[encoded data removed]",
      "text/plain": [
       "<Figure size 720x432 with 1 Axes>"
      ]
     },
     "metadata": {
      "needs_background": "light"
     },
     "output_type": "display_data"
    }
   ],
   "source": [
    "fig, ax = plt.subplots(figsize=(10,6))\n",
    "\n",
    "ax.plot(sc.index.Date, sc.index.Index, label='Index Fund', color='C0')\n",
    "ax.plot(sc.index.Date, sc.index.Index_Adj, label='Adjusted Oct 2024 ($)', color='C1')\n",
    "\n",
    "# Formatting the x-axis to show quarter ticks\n",
    "ax.xaxis.set_major_locator(mdates.MonthLocator(bymonth=(1, 4, 7, 10)))  # Quarterly ticks\n",
    "ax.xaxis.set_major_formatter(mdates.DateFormatter('%b\\n%Y'))  # Show month and year\n",
    "\n",
    "# Add labels and title\n",
    "ax.set_xlabel('')\n",
    "ax.set_ylabel('Price ($)')\n",
    "ax.set_title('Index Fund Weekly Closing Prices')\n",
    "\n",
    "# Add grid and legend\n",
    "ax.grid(True)\n",
    "ax.legend()\n",
    "\n",
    "# Display the plot\n",
    "plt.tight_layout()\n",
    "plt.show()"
   ]
  },
  {
   "cell_type": "code",
   "execution_count": 13,
   "id": "daab4423",
   "metadata": {},
   "outputs": [
    {
     "data": {
      "text/html": [
       "<div>\n",
       "<style scoped>\n",
       "    .dataframe tbody tr th:only-of-type {\n",
       "        vertical-align: middle;\n",
       "    }\n",
       "\n",
       "    .dataframe tbody tr th {\n",
       "        vertical-align: top;\n",
       "    }\n",
       "\n",
       "    .dataframe thead th {\n",
       "        text-align: right;\n",
       "    }\n",
       "</style>\n",
       "<table border=\"1\" class=\"dataframe\">\n",
       "  <thead>\n",
       "    <tr style=\"text-align: right;\">\n",
       "      <th></th>\n",
       "      <th>Date</th>\n",
       "      <th>Index</th>\n",
       "      <th>Index_Adj</th>\n",
       "    </tr>\n",
       "  </thead>\n",
       "  <tbody>\n",
       "    <tr>\n",
       "      <th>0</th>\n",
       "      <td>2020-10-26</td>\n",
       "      <td>156.954871</td>\n",
       "      <td>190.054948</td>\n",
       "    </tr>\n",
       "    <tr>\n",
       "      <th>1</th>\n",
       "      <td>2020-11-02</td>\n",
       "      <td>172.794552</td>\n",
       "      <td>209.362888</td>\n",
       "    </tr>\n",
       "    <tr>\n",
       "      <th>2</th>\n",
       "      <td>2020-11-09</td>\n",
       "      <td>168.483417</td>\n",
       "      <td>204.139392</td>\n",
       "    </tr>\n",
       "    <tr>\n",
       "      <th>3</th>\n",
       "      <td>2020-11-16</td>\n",
       "      <td>164.415647</td>\n",
       "      <td>199.210764</td>\n",
       "    </tr>\n",
       "    <tr>\n",
       "      <th>4</th>\n",
       "      <td>2020-11-23</td>\n",
       "      <td>168.994715</td>\n",
       "      <td>204.758895</td>\n",
       "    </tr>\n",
       "  </tbody>\n",
       "</table>\n",
       "</div>"
      ],
      "text/plain": [
       "         Date       Index   Index_Adj\n",
       "0  2020-10-26  156.954871  190.054948\n",
       "1  2020-11-02  172.794552  209.362888\n",
       "2  2020-11-09  168.483417  204.139392\n",
       "3  2020-11-16  164.415647  199.210764\n",
       "4  2020-11-23  168.994715  204.758895"
      ]
     },
     "execution_count": 13,
     "metadata": {},
     "output_type": "execute_result"
    }
   ],
   "source": [
    "sc.index.head()"
   ]
  },
  {
   "cell_type": "code",
   "execution_count": 14,
   "id": "a23b5e3b",
   "metadata": {},
   "outputs": [
    {
     "data": {
      "text/html": [
       "<div>\n",
       "<style scoped>\n",
       "    .dataframe tbody tr th:only-of-type {\n",
       "        vertical-align: middle;\n",
       "    }\n",
       "\n",
       "    .dataframe tbody tr th {\n",
       "        vertical-align: top;\n",
       "    }\n",
       "\n",
       "    .dataframe thead th {\n",
       "        text-align: right;\n",
       "    }\n",
       "</style>\n",
       "<table border=\"1\" class=\"dataframe\">\n",
       "  <thead>\n",
       "    <tr style=\"text-align: right;\">\n",
       "      <th></th>\n",
       "      <th>Date</th>\n",
       "      <th>Index</th>\n",
       "      <th>Index_Adj</th>\n",
       "    </tr>\n",
       "  </thead>\n",
       "  <tbody>\n",
       "    <tr>\n",
       "      <th>204</th>\n",
       "      <td>2024-09-23</td>\n",
       "      <td>350.951422</td>\n",
       "      <td>350.951422</td>\n",
       "    </tr>\n",
       "    <tr>\n",
       "      <th>205</th>\n",
       "      <td>2024-09-30</td>\n",
       "      <td>343.116777</td>\n",
       "      <td>343.116777</td>\n",
       "    </tr>\n",
       "    <tr>\n",
       "      <th>206</th>\n",
       "      <td>2024-10-07</td>\n",
       "      <td>343.121248</td>\n",
       "      <td>343.121248</td>\n",
       "    </tr>\n",
       "    <tr>\n",
       "      <th>207</th>\n",
       "      <td>2024-10-14</td>\n",
       "      <td>343.658796</td>\n",
       "      <td>343.658796</td>\n",
       "    </tr>\n",
       "    <tr>\n",
       "      <th>208</th>\n",
       "      <td>2024-10-21</td>\n",
       "      <td>350.735792</td>\n",
       "      <td>350.735792</td>\n",
       "    </tr>\n",
       "  </tbody>\n",
       "</table>\n",
       "</div>"
      ],
      "text/plain": [
       "           Date       Index   Index_Adj\n",
       "204  2024-09-23  350.951422  350.951422\n",
       "205  2024-09-30  343.116777  343.116777\n",
       "206  2024-10-07  343.121248  343.121248\n",
       "207  2024-10-14  343.658796  343.658796\n",
       "208  2024-10-21  350.735792  350.735792"
      ]
     },
     "execution_count": 14,
     "metadata": {},
     "output_type": "execute_result"
    }
   ],
   "source": [
    "sc.index.tail()"
   ]
  },
  {
   "cell_type": "code",
   "execution_count": 15,
   "id": "0b2b757c",
   "metadata": {},
   "outputs": [],
   "source": [
    "sc.index.to_csv('bc5_index_20201026-20241021.txt', index_label='week', sep=' ')"
   ]
  },
  {
   "cell_type": "markdown",
   "id": "1e9103b0",
   "metadata": {},
   "source": [
    "## Distribution of weekly returns from index fund stocks"
   ]
  },
  {
   "cell_type": "markdown",
   "id": "60bc8eba",
   "metadata": {},
   "source": [
    "Build kernel density estimate (kde) of weekly returns"
   ]
  },
  {
   "cell_type": "code",
   "execution_count": 342,
   "id": "829cc653",
   "metadata": {
    "scrolled": false
   },
   "outputs": [
    {
     "data": {
      "text/html": [
       "<div>\n",
       "<style scoped>\n",
       "    .dataframe tbody tr th:only-of-type {\n",
       "        vertical-align: middle;\n",
       "    }\n",
       "\n",
       "    .dataframe tbody tr th {\n",
       "        vertical-align: top;\n",
       "    }\n",
       "\n",
       "    .dataframe thead th {\n",
       "        text-align: right;\n",
       "    }\n",
       "</style>\n",
       "<table border=\"1\" class=\"dataframe\">\n",
       "  <thead>\n",
       "    <tr style=\"text-align: right;\">\n",
       "      <th></th>\n",
       "      <th>Date</th>\n",
       "      <th>Close</th>\n",
       "      <th>Volume</th>\n",
       "      <th>Dividends</th>\n",
       "      <th>Inflation_Adj</th>\n",
       "    </tr>\n",
       "  </thead>\n",
       "  <tbody>\n",
       "    <tr>\n",
       "      <th>0</th>\n",
       "      <td>2020-10-26</td>\n",
       "      <td>195.590851</td>\n",
       "      <td>193393800</td>\n",
       "      <td>0.00</td>\n",
       "      <td>236.838836</td>\n",
       "    </tr>\n",
       "    <tr>\n",
       "      <th>1</th>\n",
       "      <td>2020-11-02</td>\n",
       "      <td>216.118896</td>\n",
       "      <td>161978000</td>\n",
       "      <td>0.00</td>\n",
       "      <td>261.855920</td>\n",
       "    </tr>\n",
       "    <tr>\n",
       "      <th>2</th>\n",
       "      <td>2020-11-09</td>\n",
       "      <td>209.153778</td>\n",
       "      <td>158095900</td>\n",
       "      <td>0.00</td>\n",
       "      <td>253.416781</td>\n",
       "    </tr>\n",
       "    <tr>\n",
       "      <th>3</th>\n",
       "      <td>2020-11-16</td>\n",
       "      <td>203.241730</td>\n",
       "      <td>125116000</td>\n",
       "      <td>0.56</td>\n",
       "      <td>246.253571</td>\n",
       "    </tr>\n",
       "    <tr>\n",
       "      <th>4</th>\n",
       "      <td>2020-11-23</td>\n",
       "      <td>208.461639</td>\n",
       "      <td>95188300</td>\n",
       "      <td>0.00</td>\n",
       "      <td>252.578165</td>\n",
       "    </tr>\n",
       "  </tbody>\n",
       "</table>\n",
       "</div>"
      ],
      "text/plain": [
       "         Date       Close     Volume  Dividends  Inflation_Adj\n",
       "0  2020-10-26  195.590851  193393800       0.00     236.838836\n",
       "1  2020-11-02  216.118896  161978000       0.00     261.855920\n",
       "2  2020-11-09  209.153778  158095900       0.00     253.416781\n",
       "3  2020-11-16  203.241730  125116000       0.56     246.253571\n",
       "4  2020-11-23  208.461639   95188300       0.00     252.578165"
      ]
     },
     "execution_count": 342,
     "metadata": {},
     "output_type": "execute_result"
    }
   ],
   "source": [
    "bc5.stocks['MSFT'].price_history.head()"
   ]
  },
  {
   "cell_type": "code",
   "execution_count": 343,
   "id": "810c315c",
   "metadata": {},
   "outputs": [
    {
     "data": {
      "text/plain": [
       "(208, 5)"
      ]
     },
     "execution_count": 343,
     "metadata": {},
     "output_type": "execute_result"
    }
   ],
   "source": [
    "bc5.stocks['MSFT'].price_history.shape"
   ]
  },
  {
   "cell_type": "code",
   "execution_count": 344,
   "id": "1180d4c4",
   "metadata": {},
   "outputs": [],
   "source": [
    "bw_bounds = (-2, 1)\n",
    "params = {'bandwidth': np.logspace(bw_bounds[0], bw_bounds[1], 15)}"
   ]
  },
  {
   "cell_type": "code",
   "execution_count": 345,
   "id": "b9d64027",
   "metadata": {},
   "outputs": [],
   "source": [
    "grid = GridSearchCV(\n",
    "                KernelDensity(kernel='gaussian'),\n",
    "                params,\n",
    "                cv=ShuffleSplit(n_splits=5, test_size=0.20),\n",
    "                n_jobs=-1\n",
    "                )"
   ]
  },
  {
   "cell_type": "code",
   "execution_count": 346,
   "id": "aef81bf6",
   "metadata": {},
   "outputs": [
    {
     "data": {
      "text/plain": [
       "['MSFT', 'ABBV', 'XOM', 'T', 'MMM']"
      ]
     },
     "execution_count": 346,
     "metadata": {},
     "output_type": "execute_result"
    }
   ],
   "source": [
    "tickers"
   ]
  },
  {
   "cell_type": "code",
   "execution_count": 347,
   "id": "0d2dce6c",
   "metadata": {},
   "outputs": [],
   "source": [
    "X_msft = bc5.stocks['MSFT'].price_history.Inflation_Adj.loc[:106]\n",
    "X_abbv = bc5.stocks['ABBV'].price_history.Inflation_Adj.loc[:106]\n",
    "X_xom = bc5.stocks['XOM'].price_history.Inflation_Adj.loc[:106]\n",
    "X_t = bc5.stocks['T'].price_history.Inflation_Adj.loc[:106]\n",
    "X_mmm = bc5.stocks['MMM'].price_history.Inflation_Adj.loc[:106]"
   ]
  },
  {
   "cell_type": "code",
   "execution_count": 348,
   "id": "60f8dfd8",
   "metadata": {},
   "outputs": [],
   "source": [
    "eg_pct_change = {}"
   ]
  },
  {
   "cell_type": "code",
   "execution_count": 349,
   "id": "f3d5bd57",
   "metadata": {},
   "outputs": [],
   "source": [
    "eg_pct_change['Date'] = bc5.index.Date.loc[X_msft.index.values[-1]]"
   ]
  },
  {
   "cell_type": "code",
   "execution_count": 350,
   "id": "ca5d618c",
   "metadata": {},
   "outputs": [
    {
     "data": {
      "text/plain": [
       "{'Date': datetime.date(2022, 11, 7)}"
      ]
     },
     "execution_count": 350,
     "metadata": {},
     "output_type": "execute_result"
    }
   ],
   "source": [
    "eg_pct_change"
   ]
  },
  {
   "cell_type": "code",
   "execution_count": 351,
   "id": "dc50963a",
   "metadata": {},
   "outputs": [],
   "source": [
    "X_msft = pd.DataFrame(X_msft.pct_change()*100)\n",
    "X_abbv = pd.DataFrame(X_abbv.pct_change()*100)\n",
    "X_xom = pd.DataFrame(X_xom.pct_change()*100)\n",
    "X_t = pd.DataFrame(X_t.pct_change()*100)\n",
    "X_mmm = pd.DataFrame(X_mmm.pct_change()*100)"
   ]
  },
  {
   "cell_type": "code",
   "execution_count": 352,
   "id": "6837c6a8",
   "metadata": {
    "scrolled": true
   },
   "outputs": [
    {
     "data": {
      "text/plain": [
       "106"
      ]
     },
     "execution_count": 352,
     "metadata": {},
     "output_type": "execute_result"
    }
   ],
   "source": [
    "X_msft.index.values[-1]"
   ]
  },
  {
   "cell_type": "code",
   "execution_count": 353,
   "id": "1d2fb772",
   "metadata": {},
   "outputs": [
    {
     "data": {
      "text/html": [
       "<div>\n",
       "<style scoped>\n",
       "    .dataframe tbody tr th:only-of-type {\n",
       "        vertical-align: middle;\n",
       "    }\n",
       "\n",
       "    .dataframe tbody tr th {\n",
       "        vertical-align: top;\n",
       "    }\n",
       "\n",
       "    .dataframe thead th {\n",
       "        text-align: right;\n",
       "    }\n",
       "</style>\n",
       "<table border=\"1\" class=\"dataframe\">\n",
       "  <thead>\n",
       "    <tr style=\"text-align: right;\">\n",
       "      <th></th>\n",
       "      <th>Inflation_Adj</th>\n",
       "    </tr>\n",
       "  </thead>\n",
       "  <tbody>\n",
       "    <tr>\n",
       "      <th>102</th>\n",
       "      <td>-2.424864</td>\n",
       "    </tr>\n",
       "    <tr>\n",
       "      <th>103</th>\n",
       "      <td>5.932792</td>\n",
       "    </tr>\n",
       "    <tr>\n",
       "      <th>104</th>\n",
       "      <td>-2.581356</td>\n",
       "    </tr>\n",
       "    <tr>\n",
       "      <th>105</th>\n",
       "      <td>-6.138975</td>\n",
       "    </tr>\n",
       "    <tr>\n",
       "      <th>106</th>\n",
       "      <td>11.730351</td>\n",
       "    </tr>\n",
       "  </tbody>\n",
       "</table>\n",
       "</div>"
      ],
      "text/plain": [
       "     Inflation_Adj\n",
       "102      -2.424864\n",
       "103       5.932792\n",
       "104      -2.581356\n",
       "105      -6.138975\n",
       "106      11.730351"
      ]
     },
     "execution_count": 353,
     "metadata": {},
     "output_type": "execute_result"
    }
   ],
   "source": [
    "X_msft.tail()"
   ]
  },
  {
   "cell_type": "code",
   "execution_count": 354,
   "id": "a8cef049",
   "metadata": {
    "scrolled": true
   },
   "outputs": [
    {
     "data": {
      "text/plain": [
       "Inflation_Adj    11.730351\n",
       "Name: 106, dtype: float64"
      ]
     },
     "execution_count": 354,
     "metadata": {},
     "output_type": "execute_result"
    }
   ],
   "source": [
    "X_msft.loc[X_msft.index.values[-1]]"
   ]
  },
  {
   "cell_type": "code",
   "execution_count": 355,
   "id": "5f7f06f9",
   "metadata": {},
   "outputs": [],
   "source": [
    "eg_pct_change['MSFT'] = X_msft.loc[X_msft.index.values[-1]][0]\n",
    "eg_pct_change['ABBV'] = X_abbv.loc[X_abbv.index.values[-1]][0]\n",
    "eg_pct_change['XOM'] = X_xom.loc[X_xom.index.values[-1]][0]\n",
    "eg_pct_change['T'] = X_t.loc[X_t.index.values[-1]][0]\n",
    "eg_pct_change['MMM'] = X_mmm.loc[X_mmm.index.values[-1]][0]"
   ]
  },
  {
   "cell_type": "markdown",
   "id": "3013c15a",
   "metadata": {},
   "source": [
    "Save the last value and drop before training the kde"
   ]
  },
  {
   "cell_type": "code",
   "execution_count": 356,
   "id": "7db20b94",
   "metadata": {
    "scrolled": false
   },
   "outputs": [
    {
     "data": {
      "text/plain": [
       "{'Date': datetime.date(2022, 11, 7),\n",
       " 'MSFT': 11.730351342576938,\n",
       " 'ABBV': 3.4635229676940105,\n",
       " 'XOM': 1.5628471819032264,\n",
       " 'T': 4.089853229249907,\n",
       " 'MMM': 6.628046012690247}"
      ]
     },
     "execution_count": 356,
     "metadata": {},
     "output_type": "execute_result"
    }
   ],
   "source": [
    "eg_pct_change"
   ]
  },
  {
   "cell_type": "code",
   "execution_count": 357,
   "id": "ba88998f",
   "metadata": {},
   "outputs": [],
   "source": [
    "X_msft.drop(X_msft.tail(1).index, inplace=True)\n",
    "X_abbv.drop(X_abbv.tail(1).index, inplace=True)\n",
    "X_xom.drop(X_xom.tail(1).index, inplace=True)\n",
    "X_t.drop(X_t.tail(1).index, inplace=True)\n",
    "X_mmm.drop(X_mmm.tail(1).index, inplace=True)"
   ]
  },
  {
   "cell_type": "code",
   "execution_count": 358,
   "id": "d6239664",
   "metadata": {},
   "outputs": [
    {
     "name": "stdout",
     "output_type": "stream",
     "text": [
      "     Inflation_Adj\n",
      "101       0.169013\n",
      "102      -2.424864\n",
      "103       5.932792\n",
      "104      -2.581356\n",
      "105      -6.138975\n",
      "     Inflation_Adj\n",
      "101       2.972483\n",
      "102       3.012393\n",
      "103       3.929193\n",
      "104       0.374004\n",
      "105      -1.578476\n"
     ]
    }
   ],
   "source": [
    "print(X_msft.tail())\n",
    "print(X_abbv.tail())"
   ]
  },
  {
   "cell_type": "code",
   "execution_count": 359,
   "id": "74371cd5",
   "metadata": {},
   "outputs": [],
   "source": [
    "X_msft.dropna(inplace=True)\n",
    "X_abbv.dropna(inplace=True)\n",
    "X_xom.dropna(inplace=True)\n",
    "X_t.dropna(inplace=True)\n",
    "X_mmm.dropna(inplace=True)"
   ]
  },
  {
   "cell_type": "code",
   "execution_count": 360,
   "id": "214f96fa",
   "metadata": {
    "scrolled": true
   },
   "outputs": [
    {
     "data": {
      "text/html": [
       "<div>\n",
       "<style scoped>\n",
       "    .dataframe tbody tr th:only-of-type {\n",
       "        vertical-align: middle;\n",
       "    }\n",
       "\n",
       "    .dataframe tbody tr th {\n",
       "        vertical-align: top;\n",
       "    }\n",
       "\n",
       "    .dataframe thead th {\n",
       "        text-align: right;\n",
       "    }\n",
       "</style>\n",
       "<table border=\"1\" class=\"dataframe\">\n",
       "  <thead>\n",
       "    <tr style=\"text-align: right;\">\n",
       "      <th></th>\n",
       "      <th>Inflation_Adj</th>\n",
       "    </tr>\n",
       "  </thead>\n",
       "  <tbody>\n",
       "    <tr>\n",
       "      <th>1</th>\n",
       "      <td>10.562915</td>\n",
       "    </tr>\n",
       "    <tr>\n",
       "      <th>2</th>\n",
       "      <td>-3.222818</td>\n",
       "    </tr>\n",
       "    <tr>\n",
       "      <th>3</th>\n",
       "      <td>-2.826651</td>\n",
       "    </tr>\n",
       "    <tr>\n",
       "      <th>4</th>\n",
       "      <td>2.568326</td>\n",
       "    </tr>\n",
       "    <tr>\n",
       "      <th>5</th>\n",
       "      <td>-0.404209</td>\n",
       "    </tr>\n",
       "  </tbody>\n",
       "</table>\n",
       "</div>"
      ],
      "text/plain": [
       "   Inflation_Adj\n",
       "1      10.562915\n",
       "2      -3.222818\n",
       "3      -2.826651\n",
       "4       2.568326\n",
       "5      -0.404209"
      ]
     },
     "execution_count": 360,
     "metadata": {},
     "output_type": "execute_result"
    }
   ],
   "source": [
    "X_msft.head()"
   ]
  },
  {
   "cell_type": "code",
   "execution_count": 361,
   "id": "bfc6ae3c",
   "metadata": {},
   "outputs": [],
   "source": [
    "eg_pct_change['msft_5ile'] = np.percentile(X_msft, 5)\n",
    "eg_pct_change['abbv_5ile'] = np.percentile(X_abbv, 5)\n",
    "eg_pct_change['xom_5ile'] = np.percentile(X_xom, 5)\n",
    "eg_pct_change['t_5ile'] = np.percentile(X_t, 5)\n",
    "eg_pct_change['mmm_5ile'] = np.percentile(X_mmm, 5)"
   ]
  },
  {
   "cell_type": "code",
   "execution_count": 362,
   "id": "26495cb6",
   "metadata": {},
   "outputs": [
    {
     "data": {
      "text/plain": [
       "{'Date': datetime.date(2022, 11, 7),\n",
       " 'MSFT': 11.730351342576938,\n",
       " 'ABBV': 3.4635229676940105,\n",
       " 'XOM': 1.5628471819032264,\n",
       " 'T': 4.089853229249907,\n",
       " 'MMM': 6.628046012690247,\n",
       " 'msft_5ile': -5.711491982497396,\n",
       " 'abbv_5ile': -4.6347744216418585,\n",
       " 'xom_5ile': -6.247127820704899,\n",
       " 't_5ile': -4.458041289465437,\n",
       " 'mmm_5ile': -5.530600016579948}"
      ]
     },
     "execution_count": 362,
     "metadata": {},
     "output_type": "execute_result"
    }
   ],
   "source": [
    "eg_pct_change"
   ]
  },
  {
   "cell_type": "code",
   "execution_count": 363,
   "id": "81fd4e63",
   "metadata": {
    "scrolled": false
   },
   "outputs": [
    {
     "data": {
      "text/html": [
       "<div>\n",
       "<style scoped>\n",
       "    .dataframe tbody tr th:only-of-type {\n",
       "        vertical-align: middle;\n",
       "    }\n",
       "\n",
       "    .dataframe tbody tr th {\n",
       "        vertical-align: top;\n",
       "    }\n",
       "\n",
       "    .dataframe thead th {\n",
       "        text-align: right;\n",
       "    }\n",
       "</style>\n",
       "<table border=\"1\" class=\"dataframe\">\n",
       "  <thead>\n",
       "    <tr style=\"text-align: right;\">\n",
       "      <th></th>\n",
       "      <th>msft_wkly_rtrn</th>\n",
       "      <th>msft_prob</th>\n",
       "    </tr>\n",
       "  </thead>\n",
       "  <tbody>\n",
       "    <tr>\n",
       "      <th>84</th>\n",
       "      <td>-7.576489</td>\n",
       "      <td>0.015489</td>\n",
       "    </tr>\n",
       "    <tr>\n",
       "      <th>98</th>\n",
       "      <td>-7.456671</td>\n",
       "      <td>0.016488</td>\n",
       "    </tr>\n",
       "    <tr>\n",
       "      <th>62</th>\n",
       "      <td>-7.403813</td>\n",
       "      <td>0.016935</td>\n",
       "    </tr>\n",
       "    <tr>\n",
       "      <th>105</th>\n",
       "      <td>-6.138975</td>\n",
       "      <td>0.029562</td>\n",
       "    </tr>\n",
       "    <tr>\n",
       "      <th>95</th>\n",
       "      <td>-6.112513</td>\n",
       "      <td>0.029882</td>\n",
       "    </tr>\n",
       "  </tbody>\n",
       "</table>\n",
       "</div>"
      ],
      "text/plain": [
       "     msft_wkly_rtrn  msft_prob\n",
       "84        -7.576489   0.015489\n",
       "98        -7.456671   0.016488\n",
       "62        -7.403813   0.016935\n",
       "105       -6.138975   0.029562\n",
       "95        -6.112513   0.029882"
      ]
     },
     "execution_count": 363,
     "metadata": {},
     "output_type": "execute_result"
    }
   ],
   "source": [
    "grid.fit(X_msft)\n",
    "X_msft.sort_values(by='Inflation_Adj', inplace=True)\n",
    "X_msft['msft_prob'] = grid.score_samples(X_msft)\n",
    "X_msft['msft_prob'] = X_msft['msft_prob'].apply(np.exp)\n",
    "eg_pct_change['msft_5ile_p']= np.exp(grid.score(pd.DataFrame([eg_pct_change['msft_5ile']])))\n",
    "X_msft.rename(columns={'Inflation_Adj':'msft_wkly_rtrn'}, inplace=True)\n",
    "X_msft.head()"
   ]
  },
  {
   "cell_type": "code",
   "execution_count": 364,
   "id": "15e43497",
   "metadata": {},
   "outputs": [
    {
     "data": {
      "text/html": [
       "<div>\n",
       "<style scoped>\n",
       "    .dataframe tbody tr th:only-of-type {\n",
       "        vertical-align: middle;\n",
       "    }\n",
       "\n",
       "    .dataframe tbody tr th {\n",
       "        vertical-align: top;\n",
       "    }\n",
       "\n",
       "    .dataframe thead th {\n",
       "        text-align: right;\n",
       "    }\n",
       "</style>\n",
       "<table border=\"1\" class=\"dataframe\">\n",
       "  <thead>\n",
       "    <tr style=\"text-align: right;\">\n",
       "      <th></th>\n",
       "      <th>abbv_wkly_rtrn</th>\n",
       "      <th>abbv_prob</th>\n",
       "    </tr>\n",
       "  </thead>\n",
       "  <tbody>\n",
       "    <tr>\n",
       "      <th>13</th>\n",
       "      <td>-7.559084</td>\n",
       "      <td>0.010980</td>\n",
       "    </tr>\n",
       "    <tr>\n",
       "      <th>76</th>\n",
       "      <td>-7.230216</td>\n",
       "      <td>0.012704</td>\n",
       "    </tr>\n",
       "    <tr>\n",
       "      <th>44</th>\n",
       "      <td>-6.656621</td>\n",
       "      <td>0.015740</td>\n",
       "    </tr>\n",
       "    <tr>\n",
       "      <th>100</th>\n",
       "      <td>-6.186197</td>\n",
       "      <td>0.018517</td>\n",
       "    </tr>\n",
       "    <tr>\n",
       "      <th>78</th>\n",
       "      <td>-5.232588</td>\n",
       "      <td>0.026272</td>\n",
       "    </tr>\n",
       "  </tbody>\n",
       "</table>\n",
       "</div>"
      ],
      "text/plain": [
       "     abbv_wkly_rtrn  abbv_prob\n",
       "13        -7.559084   0.010980\n",
       "76        -7.230216   0.012704\n",
       "44        -6.656621   0.015740\n",
       "100       -6.186197   0.018517\n",
       "78        -5.232588   0.026272"
      ]
     },
     "execution_count": 364,
     "metadata": {},
     "output_type": "execute_result"
    }
   ],
   "source": [
    "grid.fit(X_abbv)\n",
    "X_abbv.sort_values(by='Inflation_Adj', inplace=True)\n",
    "X_abbv['abbv_prob'] = grid.score_samples(X_abbv)\n",
    "X_abbv['abbv_prob'] = X_abbv['abbv_prob'].apply(np.exp)\n",
    "eg_pct_change['abbv_5ile_p']= np.exp(grid.score(pd.DataFrame([eg_pct_change['abbv_5ile']])))\n",
    "X_abbv.rename(columns={'Inflation_Adj':'abbv_wkly_rtrn'}, inplace=True)\n",
    "X_abbv.head()"
   ]
  },
  {
   "cell_type": "code",
   "execution_count": 365,
   "id": "1fb225a2",
   "metadata": {},
   "outputs": [
    {
     "data": {
      "text/html": [
       "<div>\n",
       "<style scoped>\n",
       "    .dataframe tbody tr th:only-of-type {\n",
       "        vertical-align: middle;\n",
       "    }\n",
       "\n",
       "    .dataframe tbody tr th {\n",
       "        vertical-align: top;\n",
       "    }\n",
       "\n",
       "    .dataframe thead th {\n",
       "        text-align: right;\n",
       "    }\n",
       "</style>\n",
       "<table border=\"1\" class=\"dataframe\">\n",
       "  <thead>\n",
       "    <tr style=\"text-align: right;\">\n",
       "      <th></th>\n",
       "      <th>xom_wkly_rtrn</th>\n",
       "      <th>xom_prob</th>\n",
       "    </tr>\n",
       "  </thead>\n",
       "  <tbody>\n",
       "    <tr>\n",
       "      <th>85</th>\n",
       "      <td>-14.274344</td>\n",
       "      <td>0.001912</td>\n",
       "    </tr>\n",
       "    <tr>\n",
       "      <th>20</th>\n",
       "      <td>-8.842982</td>\n",
       "      <td>0.009828</td>\n",
       "    </tr>\n",
       "    <tr>\n",
       "      <th>92</th>\n",
       "      <td>-8.716234</td>\n",
       "      <td>0.010241</td>\n",
       "    </tr>\n",
       "    <tr>\n",
       "      <th>99</th>\n",
       "      <td>-8.003444</td>\n",
       "      <td>0.012799</td>\n",
       "    </tr>\n",
       "    <tr>\n",
       "      <th>72</th>\n",
       "      <td>-7.359879</td>\n",
       "      <td>0.015597</td>\n",
       "    </tr>\n",
       "  </tbody>\n",
       "</table>\n",
       "</div>"
      ],
      "text/plain": [
       "    xom_wkly_rtrn  xom_prob\n",
       "85     -14.274344  0.001912\n",
       "20      -8.842982  0.009828\n",
       "92      -8.716234  0.010241\n",
       "99      -8.003444  0.012799\n",
       "72      -7.359879  0.015597"
      ]
     },
     "execution_count": 365,
     "metadata": {},
     "output_type": "execute_result"
    }
   ],
   "source": [
    "grid.fit(X_xom)\n",
    "X_xom.sort_values(by='Inflation_Adj', inplace=True)\n",
    "X_xom['xom_prob'] = grid.score_samples(X_xom)\n",
    "X_xom['xom_prob'] = X_xom['xom_prob'].apply(np.exp)\n",
    "eg_pct_change['xom_5ile_p']= np.exp(grid.score(pd.DataFrame([eg_pct_change['xom_5ile']])))\n",
    "X_xom.rename(columns={'Inflation_Adj':'xom_wkly_rtrn'}, inplace=True)\n",
    "X_xom.head()"
   ]
  },
  {
   "cell_type": "code",
   "execution_count": 366,
   "id": "a1a3bcde",
   "metadata": {},
   "outputs": [
    {
     "data": {
      "text/html": [
       "<div>\n",
       "<style scoped>\n",
       "    .dataframe tbody tr th:only-of-type {\n",
       "        vertical-align: middle;\n",
       "    }\n",
       "\n",
       "    .dataframe tbody tr th {\n",
       "        vertical-align: top;\n",
       "    }\n",
       "\n",
       "    .dataframe thead th {\n",
       "        text-align: right;\n",
       "    }\n",
       "</style>\n",
       "<table border=\"1\" class=\"dataframe\">\n",
       "  <thead>\n",
       "    <tr style=\"text-align: right;\">\n",
       "      <th></th>\n",
       "      <th>t_wkly_rtrn</th>\n",
       "      <th>t_prob</th>\n",
       "    </tr>\n",
       "  </thead>\n",
       "  <tbody>\n",
       "    <tr>\n",
       "      <th>90</th>\n",
       "      <td>-10.549323</td>\n",
       "      <td>0.002941</td>\n",
       "    </tr>\n",
       "    <tr>\n",
       "      <th>29</th>\n",
       "      <td>-6.916872</td>\n",
       "      <td>0.017956</td>\n",
       "    </tr>\n",
       "    <tr>\n",
       "      <th>85</th>\n",
       "      <td>-6.331567</td>\n",
       "      <td>0.024162</td>\n",
       "    </tr>\n",
       "    <tr>\n",
       "      <th>65</th>\n",
       "      <td>-5.261156</td>\n",
       "      <td>0.039429</td>\n",
       "    </tr>\n",
       "    <tr>\n",
       "      <th>7</th>\n",
       "      <td>-5.191858</td>\n",
       "      <td>0.040588</td>\n",
       "    </tr>\n",
       "  </tbody>\n",
       "</table>\n",
       "</div>"
      ],
      "text/plain": [
       "    t_wkly_rtrn    t_prob\n",
       "90   -10.549323  0.002941\n",
       "29    -6.916872  0.017956\n",
       "85    -6.331567  0.024162\n",
       "65    -5.261156  0.039429\n",
       "7     -5.191858  0.040588"
      ]
     },
     "execution_count": 366,
     "metadata": {},
     "output_type": "execute_result"
    }
   ],
   "source": [
    "grid.fit(X_t)\n",
    "X_t.sort_values(by='Inflation_Adj', inplace=True)\n",
    "X_t['t_prob'] = grid.score_samples(X_t)\n",
    "X_t['t_prob'] = X_t['t_prob'].apply(np.exp)\n",
    "eg_pct_change['t_5ile_p']= np.exp(grid.score(pd.DataFrame([eg_pct_change['t_5ile']])))\n",
    "X_t.rename(columns={'Inflation_Adj':'t_wkly_rtrn'}, inplace=True)\n",
    "X_t.head()"
   ]
  },
  {
   "cell_type": "code",
   "execution_count": 367,
   "id": "17fcf1a1",
   "metadata": {},
   "outputs": [
    {
     "data": {
      "text/html": [
       "<div>\n",
       "<style scoped>\n",
       "    .dataframe tbody tr th:only-of-type {\n",
       "        vertical-align: middle;\n",
       "    }\n",
       "\n",
       "    .dataframe tbody tr th {\n",
       "        vertical-align: top;\n",
       "    }\n",
       "\n",
       "    .dataframe thead th {\n",
       "        text-align: right;\n",
       "    }\n",
       "</style>\n",
       "<table border=\"1\" class=\"dataframe\">\n",
       "  <thead>\n",
       "    <tr style=\"text-align: right;\">\n",
       "      <th></th>\n",
       "      <th>mmm_wkly_rtrn</th>\n",
       "      <th>mmm_prob</th>\n",
       "    </tr>\n",
       "  </thead>\n",
       "  <tbody>\n",
       "    <tr>\n",
       "      <th>95</th>\n",
       "      <td>-10.147853</td>\n",
       "      <td>0.003445</td>\n",
       "    </tr>\n",
       "    <tr>\n",
       "      <th>68</th>\n",
       "      <td>-7.471488</td>\n",
       "      <td>0.014024</td>\n",
       "    </tr>\n",
       "    <tr>\n",
       "      <th>84</th>\n",
       "      <td>-6.977561</td>\n",
       "      <td>0.019007</td>\n",
       "    </tr>\n",
       "    <tr>\n",
       "      <th>96</th>\n",
       "      <td>-5.799927</td>\n",
       "      <td>0.032322</td>\n",
       "    </tr>\n",
       "    <tr>\n",
       "      <th>85</th>\n",
       "      <td>-5.673813</td>\n",
       "      <td>0.033668</td>\n",
       "    </tr>\n",
       "  </tbody>\n",
       "</table>\n",
       "</div>"
      ],
      "text/plain": [
       "    mmm_wkly_rtrn  mmm_prob\n",
       "95     -10.147853  0.003445\n",
       "68      -7.471488  0.014024\n",
       "84      -6.977561  0.019007\n",
       "96      -5.799927  0.032322\n",
       "85      -5.673813  0.033668"
      ]
     },
     "execution_count": 367,
     "metadata": {},
     "output_type": "execute_result"
    }
   ],
   "source": [
    "grid.fit(X_mmm)\n",
    "X_mmm.sort_values(by='Inflation_Adj', inplace=True)\n",
    "X_mmm['mmm_prob'] = grid.score_samples(X_mmm)\n",
    "X_mmm['mmm_prob'] = X_mmm['mmm_prob'].apply(np.exp)\n",
    "eg_pct_change['mmm_5ile_p']= np.exp(grid.score(pd.DataFrame([eg_pct_change['mmm_5ile']])))\n",
    "X_mmm.rename(columns={'Inflation_Adj':'mmm_wkly_rtrn'}, inplace=True)\n",
    "X_mmm.head()"
   ]
  },
  {
   "cell_type": "code",
   "execution_count": 370,
   "id": "68298a0b",
   "metadata": {
    "scrolled": true
   },
   "outputs": [
    {
     "data": {
      "text/plain": [
       "{'Date': datetime.date(2022, 11, 7),\n",
       " 'MSFT': 11.730351342576938,\n",
       " 'ABBV': 3.4635229676940105,\n",
       " 'XOM': 1.5628471819032264,\n",
       " 'T': 4.089853229249907,\n",
       " 'MMM': 6.628046012690247,\n",
       " 'msft_5ile': -5.711491982497396,\n",
       " 'abbv_5ile': -4.6347744216418585,\n",
       " 'xom_5ile': -6.247127820704899,\n",
       " 't_5ile': -4.458041289465437,\n",
       " 'mmm_5ile': -5.530600016579948,\n",
       " 'abbv_5ile_p': 0.03304734947950935,\n",
       " 'xom_5ile_p': 0.022338072661721584,\n",
       " 't_5ile_p': 0.05392974307143191,\n",
       " 'mmm_5ile_p': 0.03515921779006332,\n",
       " 'msft_5ile_p': 0.03510917938037208}"
      ]
     },
     "execution_count": 370,
     "metadata": {},
     "output_type": "execute_result"
    }
   ],
   "source": [
    "eg_pct_change"
   ]
  },
  {
   "cell_type": "code",
   "execution_count": 396,
   "id": "694e95a9",
   "metadata": {},
   "outputs": [],
   "source": [
    "X = pd.concat([X_msft.reset_index(drop=True), X_abbv.reset_index(drop=True), X_xom.reset_index(drop=True),\n",
    "              X_t.reset_index(drop=True), X_mmm.reset_index(drop=True)], axis=1)"
   ]
  },
  {
   "cell_type": "code",
   "execution_count": 379,
   "id": "b22ca583",
   "metadata": {},
   "outputs": [
    {
     "data": {
      "text/html": [
       "<div>\n",
       "<style scoped>\n",
       "    .dataframe tbody tr th:only-of-type {\n",
       "        vertical-align: middle;\n",
       "    }\n",
       "\n",
       "    .dataframe tbody tr th {\n",
       "        vertical-align: top;\n",
       "    }\n",
       "\n",
       "    .dataframe thead th {\n",
       "        text-align: right;\n",
       "    }\n",
       "</style>\n",
       "<table border=\"1\" class=\"dataframe\">\n",
       "  <thead>\n",
       "    <tr style=\"text-align: right;\">\n",
       "      <th></th>\n",
       "      <th>msft_wkly_rtrn</th>\n",
       "      <th>msft_prob</th>\n",
       "    </tr>\n",
       "  </thead>\n",
       "  <tbody>\n",
       "    <tr>\n",
       "      <th>84</th>\n",
       "      <td>-7.576489</td>\n",
       "      <td>0.015489</td>\n",
       "    </tr>\n",
       "    <tr>\n",
       "      <th>98</th>\n",
       "      <td>-7.456671</td>\n",
       "      <td>0.016488</td>\n",
       "    </tr>\n",
       "    <tr>\n",
       "      <th>62</th>\n",
       "      <td>-7.403813</td>\n",
       "      <td>0.016935</td>\n",
       "    </tr>\n",
       "    <tr>\n",
       "      <th>105</th>\n",
       "      <td>-6.138975</td>\n",
       "      <td>0.029562</td>\n",
       "    </tr>\n",
       "    <tr>\n",
       "      <th>95</th>\n",
       "      <td>-6.112513</td>\n",
       "      <td>0.029882</td>\n",
       "    </tr>\n",
       "  </tbody>\n",
       "</table>\n",
       "</div>"
      ],
      "text/plain": [
       "     msft_wkly_rtrn  msft_prob\n",
       "84        -7.576489   0.015489\n",
       "98        -7.456671   0.016488\n",
       "62        -7.403813   0.016935\n",
       "105       -6.138975   0.029562\n",
       "95        -6.112513   0.029882"
      ]
     },
     "execution_count": 379,
     "metadata": {},
     "output_type": "execute_result"
    }
   ],
   "source": [
    "X_msft.head()"
   ]
  },
  {
   "cell_type": "code",
   "execution_count": 395,
   "id": "9561ac26",
   "metadata": {},
   "outputs": [
    {
     "data": {
      "image/png": "[encoded data removed]",
      "text/plain": [
       "<Figure size 432x288 with 1 Axes>"
      ]
     },
     "metadata": {
      "needs_background": "light"
     },
     "output_type": "display_data"
    }
   ],
   "source": [
    "plt.plot(X_msft.msft_wkly_rtrn, X_msft.msft_prob, color='C0')\n",
    "plt.vlines(eg_pct_change['msft_5ile'], ymin=0, ymax=eg_pct_change['msft_5ile_p'], colors='C3')\n",
    "plt.scatter(eg_pct_change['MSFT'], 0, 50, marker='o', color='C1')\n",
    "plt.show()"
   ]
  },
  {
   "cell_type": "code",
   "execution_count": 397,
   "id": "a1934c28",
   "metadata": {},
   "outputs": [
    {
     "data": {
      "text/html": [
       "<div>\n",
       "<style scoped>\n",
       "    .dataframe tbody tr th:only-of-type {\n",
       "        vertical-align: middle;\n",
       "    }\n",
       "\n",
       "    .dataframe tbody tr th {\n",
       "        vertical-align: top;\n",
       "    }\n",
       "\n",
       "    .dataframe thead th {\n",
       "        text-align: right;\n",
       "    }\n",
       "</style>\n",
       "<table border=\"1\" class=\"dataframe\">\n",
       "  <thead>\n",
       "    <tr style=\"text-align: right;\">\n",
       "      <th></th>\n",
       "      <th>msft_wkly_rtrn</th>\n",
       "      <th>msft_prob</th>\n",
       "      <th>abbv_wkly_rtrn</th>\n",
       "      <th>abbv_prob</th>\n",
       "      <th>xom_wkly_rtrn</th>\n",
       "      <th>xom_prob</th>\n",
       "      <th>t_wkly_rtrn</th>\n",
       "      <th>t_prob</th>\n",
       "      <th>mmm_wkly_rtrn</th>\n",
       "      <th>mmm_prob</th>\n",
       "    </tr>\n",
       "  </thead>\n",
       "  <tbody>\n",
       "    <tr>\n",
       "      <th>0</th>\n",
       "      <td>-7.576489</td>\n",
       "      <td>0.015489</td>\n",
       "      <td>-7.559084</td>\n",
       "      <td>0.010980</td>\n",
       "      <td>-14.274344</td>\n",
       "      <td>0.001912</td>\n",
       "      <td>-10.549323</td>\n",
       "      <td>0.002941</td>\n",
       "      <td>-10.147853</td>\n",
       "      <td>0.003445</td>\n",
       "    </tr>\n",
       "    <tr>\n",
       "      <th>1</th>\n",
       "      <td>-7.456671</td>\n",
       "      <td>0.016488</td>\n",
       "      <td>-7.230216</td>\n",
       "      <td>0.012704</td>\n",
       "      <td>-8.842982</td>\n",
       "      <td>0.009828</td>\n",
       "      <td>-6.916872</td>\n",
       "      <td>0.017956</td>\n",
       "      <td>-7.471488</td>\n",
       "      <td>0.014024</td>\n",
       "    </tr>\n",
       "    <tr>\n",
       "      <th>2</th>\n",
       "      <td>-7.403813</td>\n",
       "      <td>0.016935</td>\n",
       "      <td>-6.656621</td>\n",
       "      <td>0.015740</td>\n",
       "      <td>-8.716234</td>\n",
       "      <td>0.010241</td>\n",
       "      <td>-6.331567</td>\n",
       "      <td>0.024162</td>\n",
       "      <td>-6.977561</td>\n",
       "      <td>0.019007</td>\n",
       "    </tr>\n",
       "    <tr>\n",
       "      <th>3</th>\n",
       "      <td>-6.138975</td>\n",
       "      <td>0.029562</td>\n",
       "      <td>-6.186197</td>\n",
       "      <td>0.018517</td>\n",
       "      <td>-8.003444</td>\n",
       "      <td>0.012799</td>\n",
       "      <td>-5.261156</td>\n",
       "      <td>0.039429</td>\n",
       "      <td>-5.799927</td>\n",
       "      <td>0.032322</td>\n",
       "    </tr>\n",
       "    <tr>\n",
       "      <th>4</th>\n",
       "      <td>-6.112513</td>\n",
       "      <td>0.029882</td>\n",
       "      <td>-5.232588</td>\n",
       "      <td>0.026272</td>\n",
       "      <td>-7.359879</td>\n",
       "      <td>0.015597</td>\n",
       "      <td>-5.191858</td>\n",
       "      <td>0.040588</td>\n",
       "      <td>-5.673813</td>\n",
       "      <td>0.033668</td>\n",
       "    </tr>\n",
       "  </tbody>\n",
       "</table>\n",
       "</div>"
      ],
      "text/plain": [
       "   msft_wkly_rtrn  msft_prob  abbv_wkly_rtrn  abbv_prob  xom_wkly_rtrn  \\\n",
       "0       -7.576489   0.015489       -7.559084   0.010980     -14.274344   \n",
       "1       -7.456671   0.016488       -7.230216   0.012704      -8.842982   \n",
       "2       -7.403813   0.016935       -6.656621   0.015740      -8.716234   \n",
       "3       -6.138975   0.029562       -6.186197   0.018517      -8.003444   \n",
       "4       -6.112513   0.029882       -5.232588   0.026272      -7.359879   \n",
       "\n",
       "   xom_prob  t_wkly_rtrn    t_prob  mmm_wkly_rtrn  mmm_prob  \n",
       "0  0.001912   -10.549323  0.002941     -10.147853  0.003445  \n",
       "1  0.009828    -6.916872  0.017956      -7.471488  0.014024  \n",
       "2  0.010241    -6.331567  0.024162      -6.977561  0.019007  \n",
       "3  0.012799    -5.261156  0.039429      -5.799927  0.032322  \n",
       "4  0.015597    -5.191858  0.040588      -5.673813  0.033668  "
      ]
     },
     "execution_count": 397,
     "metadata": {},
     "output_type": "execute_result"
    }
   ],
   "source": [
    "X.head()"
   ]
  },
  {
   "cell_type": "code",
   "execution_count": 398,
   "id": "2938ff40",
   "metadata": {},
   "outputs": [
    {
     "data": {
      "text/html": [
       "<div>\n",
       "<style scoped>\n",
       "    .dataframe tbody tr th:only-of-type {\n",
       "        vertical-align: middle;\n",
       "    }\n",
       "\n",
       "    .dataframe tbody tr th {\n",
       "        vertical-align: top;\n",
       "    }\n",
       "\n",
       "    .dataframe thead th {\n",
       "        text-align: right;\n",
       "    }\n",
       "</style>\n",
       "<table border=\"1\" class=\"dataframe\">\n",
       "  <thead>\n",
       "    <tr style=\"text-align: right;\">\n",
       "      <th></th>\n",
       "      <th>msft_wkly_rtrn</th>\n",
       "      <th>msft_prob</th>\n",
       "      <th>abbv_wkly_rtrn</th>\n",
       "      <th>abbv_prob</th>\n",
       "      <th>xom_wkly_rtrn</th>\n",
       "      <th>xom_prob</th>\n",
       "      <th>t_wkly_rtrn</th>\n",
       "      <th>t_prob</th>\n",
       "      <th>mmm_wkly_rtrn</th>\n",
       "      <th>mmm_prob</th>\n",
       "    </tr>\n",
       "  </thead>\n",
       "  <tbody>\n",
       "    <tr>\n",
       "      <th>100</th>\n",
       "      <td>7.269610</td>\n",
       "      <td>0.019536</td>\n",
       "      <td>6.666681</td>\n",
       "      <td>0.018006</td>\n",
       "      <td>10.789572</td>\n",
       "      <td>0.016869</td>\n",
       "      <td>6.185252</td>\n",
       "      <td>0.025120</td>\n",
       "      <td>4.999593</td>\n",
       "      <td>0.028862</td>\n",
       "    </tr>\n",
       "    <tr>\n",
       "      <th>101</th>\n",
       "      <td>7.827632</td>\n",
       "      <td>0.017458</td>\n",
       "      <td>6.802641</td>\n",
       "      <td>0.016931</td>\n",
       "      <td>11.277271</td>\n",
       "      <td>0.014875</td>\n",
       "      <td>7.170505</td>\n",
       "      <td>0.018284</td>\n",
       "      <td>5.221323</td>\n",
       "      <td>0.025199</td>\n",
       "    </tr>\n",
       "    <tr>\n",
       "      <th>102</th>\n",
       "      <td>8.096115</td>\n",
       "      <td>0.016245</td>\n",
       "      <td>6.951517</td>\n",
       "      <td>0.015831</td>\n",
       "      <td>11.311450</td>\n",
       "      <td>0.014738</td>\n",
       "      <td>8.070189</td>\n",
       "      <td>0.013153</td>\n",
       "      <td>5.682656</td>\n",
       "      <td>0.019105</td>\n",
       "    </tr>\n",
       "    <tr>\n",
       "      <th>103</th>\n",
       "      <td>8.440157</td>\n",
       "      <td>0.014507</td>\n",
       "      <td>9.173590</td>\n",
       "      <td>0.006988</td>\n",
       "      <td>11.628116</td>\n",
       "      <td>0.013483</td>\n",
       "      <td>8.307536</td>\n",
       "      <td>0.011958</td>\n",
       "      <td>6.799881</td>\n",
       "      <td>0.010444</td>\n",
       "    </tr>\n",
       "    <tr>\n",
       "      <th>104</th>\n",
       "      <td>10.562915</td>\n",
       "      <td>0.004914</td>\n",
       "      <td>10.167764</td>\n",
       "      <td>0.005319</td>\n",
       "      <td>15.246621</td>\n",
       "      <td>0.003439</td>\n",
       "      <td>14.076042</td>\n",
       "      <td>0.001816</td>\n",
       "      <td>8.381167</td>\n",
       "      <td>0.004993</td>\n",
       "    </tr>\n",
       "  </tbody>\n",
       "</table>\n",
       "</div>"
      ],
      "text/plain": [
       "     msft_wkly_rtrn  msft_prob  abbv_wkly_rtrn  abbv_prob  xom_wkly_rtrn  \\\n",
       "100        7.269610   0.019536        6.666681   0.018006      10.789572   \n",
       "101        7.827632   0.017458        6.802641   0.016931      11.277271   \n",
       "102        8.096115   0.016245        6.951517   0.015831      11.311450   \n",
       "103        8.440157   0.014507        9.173590   0.006988      11.628116   \n",
       "104       10.562915   0.004914       10.167764   0.005319      15.246621   \n",
       "\n",
       "     xom_prob  t_wkly_rtrn    t_prob  mmm_wkly_rtrn  mmm_prob  \n",
       "100  0.016869     6.185252  0.025120       4.999593  0.028862  \n",
       "101  0.014875     7.170505  0.018284       5.221323  0.025199  \n",
       "102  0.014738     8.070189  0.013153       5.682656  0.019105  \n",
       "103  0.013483     8.307536  0.011958       6.799881  0.010444  \n",
       "104  0.003439    14.076042  0.001816       8.381167  0.004993  "
      ]
     },
     "execution_count": 398,
     "metadata": {},
     "output_type": "execute_result"
    }
   ],
   "source": [
    "X.tail()"
   ]
  },
  {
   "cell_type": "code",
   "execution_count": 399,
   "id": "e39c088b",
   "metadata": {},
   "outputs": [],
   "source": [
    "X.to_csv('bc5_pdistribution_20201026-20221107.txt', sep=' ', index=False)"
   ]
  },
  {
   "cell_type": "code",
   "execution_count": 401,
   "id": "1af02b3f",
   "metadata": {},
   "outputs": [],
   "source": [
    "eg_pct_change_df = pd.DataFrame(eg_pct_change, index=[0])"
   ]
  },
  {
   "cell_type": "code",
   "execution_count": 403,
   "id": "2f7a6dcf",
   "metadata": {},
   "outputs": [],
   "source": [
    "eg_pct_change_df.to_csv('eg_pct_change_5tile_threshold.txt', index=False, sep=' ')"
   ]
  },
  {
   "cell_type": "markdown",
   "id": "f4f09d23",
   "metadata": {},
   "source": [
    "## Enhancing DCA by prioritizing rare price drops"
   ]
  },
  {
   "cell_type": "code",
   "execution_count": null,
   "id": "74291b00",
   "metadata": {},
   "outputs": [],
   "source": [
    "bc5.index.Date.index[bc5.index.Date==eg_pct_change['Date']]"
   ]
  },
  {
   "cell_type": "code",
   "execution_count": 408,
   "id": "5449a5b4",
   "metadata": {},
   "outputs": [],
   "source": [
    "simulated_dates = bc5.index.Date.iloc[106:]"
   ]
  },
  {
   "cell_type": "code",
   "execution_count": 438,
   "id": "938a55a9",
   "metadata": {},
   "outputs": [],
   "source": [
    "final_date = simulated_dates.iloc[-1]"
   ]
  },
  {
   "cell_type": "code",
   "execution_count": 409,
   "id": "20848b72",
   "metadata": {
    "scrolled": true
   },
   "outputs": [
    {
     "data": {
      "text/plain": [
       "106    2022-11-07\n",
       "107    2022-11-14\n",
       "108    2022-11-21\n",
       "109    2022-11-28\n",
       "110    2022-12-05\n",
       "Name: Date, dtype: object"
      ]
     },
     "execution_count": 409,
     "metadata": {},
     "output_type": "execute_result"
    }
   ],
   "source": [
    "simulated_dates.head()"
   ]
  },
  {
   "cell_type": "code",
   "execution_count": 410,
   "id": "20630862",
   "metadata": {},
   "outputs": [
    {
     "data": {
      "text/plain": [
       "203    2024-09-16\n",
       "204    2024-09-23\n",
       "205    2024-09-30\n",
       "206    2024-10-07\n",
       "207    2024-10-14\n",
       "Name: Date, dtype: object"
      ]
     },
     "execution_count": 410,
     "metadata": {},
     "output_type": "execute_result"
    }
   ],
   "source": [
    "simulated_dates.tail()"
   ]
  },
  {
   "cell_type": "code",
   "execution_count": 407,
   "id": "cdefe6fe",
   "metadata": {},
   "outputs": [
    {
     "data": {
      "text/plain": [
       "Index([106], dtype='int64')"
      ]
     },
     "execution_count": 407,
     "metadata": {},
     "output_type": "execute_result"
    }
   ],
   "source": [
    "bc5.index.Date.index[bc5.index.Date==eg_pct_change['Date']]"
   ]
  },
  {
   "cell_type": "code",
   "execution_count": 434,
   "id": "54ceee20",
   "metadata": {},
   "outputs": [],
   "source": [
    "index_fund_investor = etk.Index_Fund(bc5, cash=500.0, cashflow=500.0)\n",
    "index_fund_investor.set_cashflow_start(simulated_dates.iloc[0])"
   ]
  },
  {
   "cell_type": "code",
   "execution_count": 435,
   "id": "2dc28fc2",
   "metadata": {},
   "outputs": [],
   "source": [
    "apd_investor = etk.Adaptive_Price_Drop(bc5, threshold=5.0, cash=500.0, cashflow=500.0)\n",
    "apd_investor.set_cashflow_start(simulated_dates.iloc[0])\n",
    "apd_investor.set_partial_shares(True)\n",
    "# apd_investor.set_lag(104)  # Two years of price history"
   ]
  },
  {
   "cell_type": "code",
   "execution_count": 436,
   "id": "a1e9da53",
   "metadata": {
    "scrolled": false
   },
   "outputs": [
    {
     "name": "stderr",
     "output_type": "stream",
     "text": [
      "/home/drew/projects/portfolio_projects/stock_analytics/equities_value_simulator/equities_toolkit.py:347: RuntimeWarning: divide by zero encountered in scalar power\n",
      "  \n",
      "/home/drew/projects/portfolio_projects/stock_analytics/equities_value_simulator/equities_toolkit.py:352: RuntimeWarning: invalid value encountered in scalar divide\n",
      "  if ndx < 30:\n",
      "/home/drew/projects/portfolio_projects/stock_analytics/equities_value_simulator/equities_toolkit.py:347: RuntimeWarning: divide by zero encountered in scalar power\n",
      "  \n",
      "/home/drew/projects/portfolio_projects/stock_analytics/equities_value_simulator/equities_toolkit.py:352: RuntimeWarning: invalid value encountered in scalar divide\n",
      "  if ndx < 30:\n"
     ]
    }
   ],
   "source": [
    "for d in simulated_dates:\n",
    "    index_fund_investor.invest(d, partial_shares=True)\n",
    "    apd_investor.apd_invest(d)"
   ]
  },
  {
   "cell_type": "code",
   "execution_count": 437,
   "id": "ee59a9a2",
   "metadata": {},
   "outputs": [
    {
     "data": {
      "text/plain": [
       "[{'Date': datetime.date(2022, 11, 7),\n",
       "  'MSFT': (1.5210885048078993, 242.92),\n",
       "  'ABBV': (0.2848161551967824, 139.24),\n",
       "  'XOM': (0.5947727614943638, 106.57),\n",
       "  'T': (1.107982124633342, 16.81),\n",
       "  'MMM': (0.08764693750087112, 100.7),\n",
       "  'Action': 'Buy Index'},\n",
       " {'Date': datetime.date(2022, 11, 14), 'Action': 'Price Out'},\n",
       " {'Date': datetime.date(2022, 11, 21),\n",
       "  'MSFT': (1.514484765317378, 243.98),\n",
       "  'ABBV': (0.2679362703211667, 148.01),\n",
       "  'XOM': (0.593879718173335, 106.73),\n",
       "  'T': (1.1039256499534382, 16.87),\n",
       "  'MMM': (0.08927770162289969, 98.86),\n",
       "  'Action': 'Buy Index'},\n",
       " {'Date': datetime.date(2022, 11, 28), 'Action': 'Price Out'},\n",
       " {'Date': datetime.date(2022, 12, 5),\n",
       "  'MSFT': (1.5272588806974219, 241.94),\n",
       "  'ABBV': (0.2622837511705835, 151.2),\n",
       "  'XOM': (0.6493444239342293, 97.61),\n",
       "  'T': (1.10566046056147, 16.85),\n",
       "  'MMM': (0.09160619296028928, 96.34),\n",
       "  'Action': 'Buy Index'},\n",
       " {'Date': datetime.date(2022, 12, 12), 'Action': 'Price Out'},\n",
       " {'Date': datetime.date(2022, 12, 19),\n",
       "  'MSFT': (1.5700575764472204, 235.35),\n",
       "  'ABBV': (0.2622194475110538, 151.24),\n",
       "  'XOM': (0.6186338381486788, 102.46),\n",
       "  'T': (1.1527615658473889, 16.16),\n",
       "  'MMM': (0.0958914170063212, 92.04),\n",
       "  'Action': 'Buy Index'},\n",
       " {'Date': datetime.date(2022, 12, 26), 'Action': 'Price Out'},\n",
       " {'Date': datetime.date(2023, 1, 2),\n",
       "  'MSFT': (1.9302277371672527, 221.74),\n",
       "  'ABBV': (0.10139339138607746, 154.44),\n",
       "  'XOM': (0.3080559070035233, 104.2),\n",
       "  'T': (0.7096017007543208, 17.23),\n",
       "  'MMM': (0.12361346323676942, 97.08),\n",
       "  'Action': 'Buy APD'},\n",
       " {'Date': datetime.date(2023, 1, 9), 'Action': 'Price Out'},\n",
       " {'Date': datetime.date(2023, 1, 16),\n",
       "  'MSFT': (0.08171258418691218, 236.81),\n",
       "  'ABBV': (0.34547576558735504, 140.03),\n",
       "  'XOM': (0.23619055603449912, 106.86),\n",
       "  'T': (1.1629061134614482, 17.21),\n",
       "  'MMM': (4.187148016842445, 92.43),\n",
       "  'Action': 'Buy APD'},\n",
       " {'Date': datetime.date(2023, 1, 23), 'Action': 'Price Out'},\n",
       " {'Date': datetime.date(2023, 1, 30),\n",
       "  'MSFT': (1.450821981083557, 254.69),\n",
       "  'ABBV': (0.29177174756930696, 135.92),\n",
       "  'XOM': (0.6007248056002786, 105.52),\n",
       "  'T': (1.0492492525792227, 17.75),\n",
       "  'MMM': (0.09805425558963357, 90.01),\n",
       "  'Action': 'Buy Index'},\n",
       " {'Date': datetime.date(2023, 2, 6), 'Action': 'Price Out'},\n",
       " {'Date': datetime.date(2023, 2, 13),\n",
       "  'MSFT': (0.1762537985970613, 254.4),\n",
       "  'ABBV': (0.28779342627633475, 141.64),\n",
       "  'XOM': (3.4191998599036837, 104.91),\n",
       "  'T': (1.0964721305182739, 17.4),\n",
       "  'MMM': (0.4228638775756691, 86.56),\n",
       "  'Action': 'Buy APD'},\n",
       " {'Date': datetime.date(2023, 2, 20), 'Action': 'Price Out'},\n",
       " {'Date': datetime.date(2023, 2, 27),\n",
       "  'MSFT': (1.4645439243414233, 252.3),\n",
       "  'ABBV': (0.27146775647956967, 146.09),\n",
       "  'XOM': (0.5914344939649007, 107.17),\n",
       "  'T': (1.1061464181988456, 16.84),\n",
       "  'MMM': (0.10219173594130376, 86.36),\n",
       "  'Action': 'Buy Index'},\n",
       " {'Date': datetime.date(2023, 3, 6), 'Action': 'Price Out'},\n",
       " {'Date': datetime.date(2023, 3, 13),\n",
       "  'MSFT': (0.04656445974779906, 276.16),\n",
       "  'ABBV': (0.10741383630169057, 144.36),\n",
       "  'XOM': (4.16886689313707, 94.85),\n",
       "  'T': (2.7072065658951723, 16.23),\n",
       "  'MMM': (0.4036514592655898, 79.97),\n",
       "  'Action': 'Buy APD'},\n",
       " {'Date': datetime.date(2023, 3, 20), 'Action': 'Price Out'},\n",
       " {'Date': datetime.date(2023, 3, 27),\n",
       "  'MSFT': (1.296855397799067, 284.92),\n",
       "  'ABBV': (0.26582962920889996, 149.18),\n",
       "  'XOM': (0.6084234164166329, 104.18),\n",
       "  'T': (1.080863009928429, 17.23),\n",
       "  'MMM': (0.10817099186091476, 81.59),\n",
       "  'Action': 'Buy Index'},\n",
       " {'Date': datetime.date(2023, 4, 3), 'Action': 'Price Out'},\n",
       " {'Date': datetime.date(2023, 4, 10),\n",
       "  'MSFT': (1.306644865282037, 282.79),\n",
       "  'ABBV': (0.2621774951292665, 151.26),\n",
       "  'XOM': (0.5749221827804758, 110.25),\n",
       "  'T': (1.0293856002088029, 18.09),\n",
       "  'MMM': (0.10749600266352069, 82.1),\n",
       "  'Action': 'Buy Index'},\n",
       " {'Date': datetime.date(2023, 4, 17), 'Action': 'Price Out'},\n",
       " {'Date': datetime.date(2023, 4, 24),\n",
       "  'MSFT': (0.03189766162159299, 303.66),\n",
       "  'ABBV': (2.7817505896966055, 142.76),\n",
       "  'XOM': (0.12615631575116398, 112.43),\n",
       "  'T': (4.126045151648409, 16.04),\n",
       "  'MMM': (0.1553718004244426, 82.45),\n",
       "  'Action': 'Buy APD'},\n",
       " {'Date': datetime.date(2023, 5, 1), 'Action': 'Price Out'},\n",
       " {'Date': datetime.date(2023, 5, 8),\n",
       "  'MSFT': (1.210096137096923, 305.35),\n",
       "  'ABBV': (0.28528091075430884, 139.01),\n",
       "  'XOM': (0.6307404340335381, 100.49),\n",
       "  'T': (1.2046771541090477, 15.46),\n",
       "  'MMM': (0.11339237635080272, 77.83),\n",
       "  'Action': 'Buy Index'},\n",
       " {'Date': datetime.date(2023, 5, 15), 'Action': 'Price Out'},\n",
       " {'Date': datetime.date(2023, 5, 22),\n",
       "  'MSFT': (0.03570964160399981, 329.71),\n",
       "  'ABBV': (1.5531633404950924, 129.95),\n",
       "  'XOM': (0.2866501750423029, 100.59),\n",
       "  'T': (16.73423871094773, 14.07),\n",
       "  'MMM': (0.2889831333507902, 76.39),\n",
       "  'Action': 'Buy APD'},\n",
       " {'Date': datetime.date(2023, 5, 29), 'Action': 'Price Out'},\n",
       " {'Date': datetime.date(2023, 6, 5),\n",
       "  'MSFT': (1.1416132416718294, 323.67),\n",
       "  'ABBV': (0.30379999922305073, 130.54),\n",
       "  'XOM': (0.6159395567562503, 102.91),\n",
       "  'T': (1.2862479526460773, 14.48),\n",
       "  'MMM': (0.11210823275369398, 78.72),\n",
       "  'Action': 'Buy Index'},\n",
       " {'Date': datetime.date(2023, 6, 12), 'Action': 'Price Out'},\n",
       " {'Date': datetime.date(2023, 6, 19),\n",
       "  'MSFT': (1.113568920723172, 331.82),\n",
       "  'ABBV': (0.30885141830263774, 128.4),\n",
       "  'XOM': (0.6459545923363055, 98.13),\n",
       "  'T': (1.3278740991318256, 14.03),\n",
       "  'MMM': (0.11119550948602511, 79.37),\n",
       "  'Action': 'Buy Index'},\n",
       " {'Date': datetime.date(2023, 6, 26), 'Action': 'Price Out'},\n",
       " {'Date': datetime.date(2023, 7, 3),\n",
       "  'MSFT': (1.1063041090740489, 334.0),\n",
       "  'ABBV': (0.3098087073834161, 128.01),\n",
       "  'XOM': (0.6411956579240948, 98.86),\n",
       "  'T': (1.314263634394273, 14.17),\n",
       "  'MMM': (0.11511575755454331, 76.67),\n",
       "  'Action': 'Buy Index'},\n",
       " {'Date': datetime.date(2023, 7, 10), 'Action': 'Price Out'},\n",
       " {'Date': datetime.date(2023, 7, 17),\n",
       "  'MSFT': (1.085225240541791, 340.49),\n",
       "  'ABBV': (0.28884652978462827, 137.3),\n",
       "  'XOM': (0.6366901788983845, 99.55),\n",
       "  'T': (1.3656011989356918, 13.64),\n",
       "  'MMM': (0.10734795877567234, 82.22),\n",
       "  'Action': 'Buy Index'},\n",
       " {'Date': datetime.date(2023, 7, 24), 'Action': 'Price Out'},\n",
       " {'Date': datetime.date(2023, 7, 31),\n",
       "  'MSFT': (0.2103995038182808, 324.65),\n",
       "  'ABBV': (0.5051188039149986, 141.11),\n",
       "  'XOM': (0.15461868347646632, 102.94),\n",
       "  'T': (5.509709964387449, 12.94),\n",
       "  'MMM': (3.28610480713763, 83.15),\n",
       "  'Action': 'Buy APD'},\n",
       " {'Date': datetime.date(2023, 8, 7), 'Action': 'Price Out'},\n",
       " {'Date': datetime.date(2023, 8, 14),\n",
       "  'MSFT': (1.178803832879791, 313.46),\n",
       "  'ABBV': (0.27653389386467064, 143.41),\n",
       "  'XOM': (0.6011063738444711, 105.45),\n",
       "  'T': (1.43461028346975, 12.98),\n",
       "  'MMM': (0.11198491339921537, 78.81),\n",
       "  'Action': 'Buy Index'},\n",
       " {'Date': datetime.date(2023, 8, 21), 'Action': 'Price Out'},\n",
       " {'Date': datetime.date(2023, 8, 28),\n",
       "  'MSFT': (1.1327197130920486, 326.21),\n",
       "  'ABBV': (0.2801538208340826, 141.56),\n",
       "  'XOM': (0.5779416392589051, 109.67),\n",
       "  'T': (1.3758550452646856, 13.54),\n",
       "  'MMM': (0.10317519836238638, 85.54),\n",
       "  'Action': 'Buy Index'},\n",
       " {'Date': datetime.date(2023, 9, 4), 'Action': 'Price Out'},\n",
       " {'Date': datetime.date(2023, 9, 11),\n",
       "  'MSFT': (1.1273685258609034, 327.76),\n",
       "  'ABBV': (0.27293453213143026, 145.3),\n",
       "  'XOM': (0.5621930499648805, 112.75),\n",
       "  'T': (1.3234586308241592, 14.07),\n",
       "  'MMM': (0.10918848695129828, 80.83),\n",
       "  'Action': 'Buy Index'},\n",
       " {'Date': datetime.date(2023, 9, 18), 'Action': 'Price Out'},\n",
       " {'Date': datetime.date(2023, 9, 25),\n",
       "  'MSFT': (1.1790329494271952, 313.4),\n",
       "  'ABBV': (0.2785374909939716, 142.38),\n",
       "  'XOM': (0.5579854529356483, 113.6),\n",
       "  'T': (1.341962290443106, 13.88),\n",
       "  'MMM': (0.11786570760872378, 74.88),\n",
       "  'Action': 'Buy Index'},\n",
       " {'Date': datetime.date(2023, 10, 2), 'Action': 'Price Out'},\n",
       " {'Date': datetime.date(2023, 10, 9),\n",
       "  'MSFT': (1.1359340123378718, 325.29),\n",
       "  'ABBV': (0.2806082296541725, 141.33),\n",
       "  'XOM': (0.5971414121465914, 106.15),\n",
       "  'T': (1.3773279820800117, 13.52),\n",
       "  'MMM': (0.12443152947888547, 70.93),\n",
       "  'Action': 'Buy Index'},\n",
       " {'Date': datetime.date(2023, 10, 16), 'Action': 'Price Out'},\n",
       " {'Date': datetime.date(2023, 10, 23),\n",
       "  'MSFT': (1.1287700249886736, 327.35),\n",
       "  'ABBV': (0.2958852678200006, 134.03),\n",
       "  'XOM': (0.6215815351793305, 101.97),\n",
       "  'T': (1.334576852555999, 13.96),\n",
       "  'MMM': (0.12608076481398856, 70.0),\n",
       "  'Action': 'Buy Index'},\n",
       " {'Date': datetime.date(2023, 10, 30), 'Action': 'Price Out'},\n",
       " {'Date': datetime.date(2023, 11, 6),\n",
       "  'MSFT': (1.0070593516827298, 366.92),\n",
       "  'ABBV': (0.29661114240136843, 133.7),\n",
       "  'XOM': (0.6323656217550577, 100.24),\n",
       "  'T': (1.264605501296792, 14.73),\n",
       "  'MMM': (0.11889438585346138, 74.23),\n",
       "  'Action': 'Buy Index'},\n",
       " {'Date': datetime.date(2023, 11, 13), 'Action': 'Price Out'},\n",
       " {'Date': datetime.date(2023, 11, 20),\n",
       "  'MSFT': (0.9843563053458408, 375.38),\n",
       "  'ABBV': (0.2964399903680759, 133.78),\n",
       "  'XOM': (0.6217215922655213, 101.95),\n",
       "  'T': (1.2201376135103361, 15.26),\n",
       "  'MMM': (0.1132218181741809, 77.95),\n",
       "  'Action': 'Buy Index'},\n",
       " {'Date': datetime.date(2023, 11, 27), 'Action': 'Price Out'},\n",
       " {'Date': datetime.date(2023, 12, 4),\n",
       "  'MSFT': (0.9927732963365201, 372.2),\n",
       "  'ABBV': (0.2753706771368707, 144.02),\n",
       "  'XOM': (0.6530730724300124, 97.06),\n",
       "  'T': (1.1689378865927988, 15.93),\n",
       "  'MMM': (0.10509463600904857, 83.98),\n",
       "  'Action': 'Buy Index'},\n",
       " {'Date': datetime.date(2023, 12, 11), 'Action': 'Price Out'},\n",
       " {'Date': datetime.date(2023, 12, 18),\n",
       "  'MSFT': (0.9918457876883895, 372.54),\n",
       "  'ABBV': (0.2653112968001718, 149.48),\n",
       "  'XOM': (0.6379494230827553, 99.36),\n",
       "  'T': (1.1950714050491693, 15.58),\n",
       "  'MMM': (0.10216903654667824, 86.38),\n",
       "  'Action': 'Buy Index'},\n",
       " {'Date': datetime.date(2023, 12, 25), 'Action': 'Price Out'},\n",
       " {'Date': datetime.date(2024, 1, 1),\n",
       "  'MSFT': (1.010266751518447, 365.75),\n",
       "  'ABBV': (0.2535298818022871, 156.42),\n",
       "  'XOM': (0.6334738819867544, 100.06),\n",
       "  'T': (1.1321367506020947, 16.45),\n",
       "  'MMM': (0.1000426664687142, 88.22),\n",
       "  'Action': 'Buy Index'},\n",
       " {'Date': datetime.date(2024, 1, 8), 'Action': 'Price Out'},\n",
       " {'Date': datetime.date(2024, 1, 15),\n",
       "  'MSFT': (0.9319124768898246, 396.5),\n",
       "  'ABBV': (0.24712204236755841, 160.48),\n",
       "  'XOM': (0.6705871595069919, 94.52),\n",
       "  'T': (1.16742474067698, 15.95),\n",
       "  'MMM': (0.10081322009327302, 87.55),\n",
       "  'Action': 'Buy Index'},\n",
       " {'Date': datetime.date(2024, 1, 22), 'Action': 'Price Out'},\n",
       " {'Date': datetime.date(2024, 1, 29),\n",
       "  'MSFT': (0.9034715670625604, 408.98),\n",
       "  'ABBV': (0.24140808294778032, 164.28),\n",
       "  'XOM': (0.637574018784857, 99.42),\n",
       "  'T': (1.0914733497578708, 17.06),\n",
       "  'MMM': (0.11451072911127581, 77.07),\n",
       "  'Action': 'Buy Index'},\n",
       " {'Date': datetime.date(2024, 2, 5), 'Action': 'Price Out'},\n",
       " {'Date': datetime.date(2024, 2, 12),\n",
       "  'MSFT': (0.9194811693772972, 401.86),\n",
       "  'ABBV': (0.22941177937000495, 172.87),\n",
       "  'XOM': (0.6267562818205524, 101.13),\n",
       "  'T': (1.1467865713748433, 16.24),\n",
       "  'MMM': (0.11905350473028822, 74.13),\n",
       "  'Action': 'Buy Index'},\n",
       " {'Date': datetime.date(2024, 2, 19), 'Action': 'Price Out'},\n",
       " {'Date': datetime.date(2024, 2, 26),\n",
       "  'MSFT': (0.892514604987505, 414.01),\n",
       "  'ABBV': (0.2275909495594, 174.25),\n",
       "  'XOM': (0.6086052617089056, 104.15),\n",
       "  'T': (1.1461114229519203, 16.25),\n",
       "  'MMM': (0.11633069170633532, 75.87),\n",
       "  'Action': 'Buy Index'},\n",
       " {'Date': datetime.date(2024, 3, 4), 'Action': 'Price Out'},\n",
       " {'Date': datetime.date(2024, 3, 11),\n",
       "  'MSFT': (0.8905427090479906, 414.92),\n",
       "  'ABBV': (0.22890882201013144, 173.25),\n",
       "  'XOM': (0.5789052019216198, 109.49),\n",
       "  'T': (1.1414059505376157, 16.32),\n",
       "  'MMM': (0.10177273823956241, 86.72),\n",
       "  'Action': 'Buy Index'},\n",
       " {'Date': datetime.date(2024, 3, 18), 'Action': 'Price Out'},\n",
       " {'Date': datetime.date(2024, 3, 25),\n",
       "  'MSFT': (0.8814408935705342, 419.21),\n",
       "  'ABBV': (0.22360406810470068, 177.36),\n",
       "  'XOM': (0.554153301160572, 114.38),\n",
       "  'T': (1.1057369580372611, 16.84),\n",
       "  'MMM': (0.10074608061724144, 87.6),\n",
       "  'Action': 'Buy Index'},\n",
       " {'Date': datetime.date(2024, 4, 1), 'Action': 'Price Out'},\n",
       " {'Date': datetime.date(2024, 4, 8),\n",
       "  'MSFT': (0.03813207047992286, 420.38),\n",
       "  'ABBV': (0.6177532866312128, 158.05),\n",
       "  'XOM': (0.15112496558001515, 118.45),\n",
       "  'T': (22.93514525029183, 15.61),\n",
       "  'MMM': (0.11560994062233924, 90.19),\n",
       "  'Action': 'Buy APD'},\n",
       " {'Date': datetime.date(2024, 4, 15), 'Action': 'Price Out'},\n",
       " {'Date': datetime.date(2024, 4, 22),\n",
       "  'MSFT': (0.9126791873819655, 404.86),\n",
       "  'ABBV': (0.25273493790335433, 156.91),\n",
       "  'XOM': (0.5460730526402879, 116.08),\n",
       "  'T': (1.1431246830574313, 16.29),\n",
       "  'MMM': (0.09729824060890223, 90.71),\n",
       "  'Action': 'Buy Index'},\n",
       " {'Date': datetime.date(2024, 4, 29), 'Action': 'Price Out'},\n",
       " {'Date': datetime.date(2024, 5, 6),\n",
       "  'MSFT': (0.8941501066126164, 413.25),\n",
       "  'ABBV': (0.2509583307337806, 158.02),\n",
       "  'XOM': (0.5460730526402879, 116.08),\n",
       "  'T': (1.1151623553269783, 16.7),\n",
       "  'MMM': (0.09031534961680898, 97.72),\n",
       "  'Action': 'Buy Index'},\n",
       " {'Date': datetime.date(2024, 5, 13), 'Action': 'Price Out'},\n",
       " {'Date': datetime.date(2024, 5, 20),\n",
       "  'MSFT': (0.027292253039834485, 429.39),\n",
       "  'ABBV': (1.5505486821181116, 154.4),\n",
       "  'XOM': (0.9308853397930928, 112.51),\n",
       "  'T': (0.8949592163620425, 17.02),\n",
       "  'MMM': (1.3093516999771384, 98.45),\n",
       "  'Action': 'Buy APD'},\n",
       " {'Date': datetime.date(2024, 5, 27), 'Action': 'Price Out'},\n",
       " {'Date': datetime.date(2024, 6, 3),\n",
       "  'MSFT': (0.8733563890549203, 423.09),\n",
       "  'ABBV': (0.23811562975985198, 166.55),\n",
       "  'XOM': (0.5667032215565674, 111.85),\n",
       "  'T': (1.0578638592810712, 17.61),\n",
       "  'MMM': (0.0879761208227598, 100.32),\n",
       "  'Action': 'Buy Index'},\n",
       " {'Date': datetime.date(2024, 6, 10), 'Action': 'Price Out'},\n",
       " {'Date': datetime.date(2024, 6, 17),\n",
       "  'MSFT': (0.8230070688666842, 448.97),\n",
       "  'ABBV': (0.23676006317296616, 167.5),\n",
       "  'XOM': (0.5768850458258155, 109.88),\n",
       "  'T': (1.0406162106932488, 17.9),\n",
       "  'MMM': (0.08666150472386752, 101.84),\n",
       "  'Action': 'Buy Index'},\n",
       " {'Date': datetime.date(2024, 6, 24), 'Action': 'Price Out'},\n",
       " {'Date': datetime.date(2024, 7, 1),\n",
       "  'MSFT': (0.7917104004439538, 466.72),\n",
       "  'ABBV': (0.24120507758303122, 164.41),\n",
       "  'XOM': (0.5636040096120365, 112.46),\n",
       "  'T': (1.0201031872927906, 18.26),\n",
       "  'MMM': (0.08757670188337079, 100.78),\n",
       "  'Action': 'Buy Index'},\n",
       " {'Date': datetime.date(2024, 7, 8), 'Action': 'Price Out'},\n",
       " {'Date': datetime.date(2024, 7, 15),\n",
       "  'MSFT': (0.8468626432179152, 436.32),\n",
       "  'ABBV': (0.23410833309717274, 169.4),\n",
       "  'XOM': (0.5504935890380372, 115.14),\n",
       "  'T': (0.9866213132370938, 18.88),\n",
       "  'MMM': (0.08538560477679491, 103.36),\n",
       "  'Action': 'Buy Index'},\n",
       " {'Date': datetime.date(2024, 7, 22), 'Action': 'Price Out'},\n",
       " {'Date': datetime.date(2024, 7, 29),\n",
       "  'MSFT': (0.9061963201887944, 407.76),\n",
       "  'ABBV': (0.2111803833884235, 187.79),\n",
       "  'XOM': (0.5466785450875236, 115.95),\n",
       "  'T': (0.9738874729172112, 19.12),\n",
       "  'MMM': (0.07085014102891823, 124.57),\n",
       "  'Action': 'Buy Index'},\n",
       " {'Date': datetime.date(2024, 8, 5), 'Action': 'Price Out'},\n",
       " {'Date': datetime.date(2024, 8, 12),\n",
       "  'MSFT': (0.8845845927882676, 417.72),\n",
       "  'ABBV': (0.20615954751834, 192.36),\n",
       "  'XOM': (0.5407107590691127, 117.23),\n",
       "  'T': (0.9753981320442094, 19.09),\n",
       "  'MMM': (0.06984078130485344, 126.37),\n",
       "  'Action': 'Buy Index'},\n",
       " {'Date': datetime.date(2024, 8, 19), 'Action': 'Price Out'},\n",
       " {'Date': datetime.date(2024, 8, 26),\n",
       "  'MSFT': (0.8858083608442661, 417.14),\n",
       "  'ABBV': (0.20362862146064226, 194.75),\n",
       "  'XOM': (0.537438364993397, 117.94),\n",
       "  'T': (0.9479497788468727, 19.65),\n",
       "  'MMM': (0.06587921632703866, 133.97),\n",
       "  'Action': 'Buy Index'},\n",
       " {'Date': datetime.date(2024, 9, 2), 'Action': 'Price Out'},\n",
       " {'Date': datetime.date(2024, 9, 9),\n",
       "  'MSFT': (0.8581391016068297, 430.59),\n",
       "  'ABBV': (0.20583046062982713, 192.67),\n",
       "  'XOM': (0.5702697364756101, 111.15),\n",
       "  'T': (0.8717283600289073, 21.37),\n",
       "  'MMM': (0.06626891742741362, 133.18),\n",
       "  'Action': 'Buy Index'},\n",
       " {'Date': datetime.date(2024, 9, 16), 'Action': 'Price Out'},\n",
       " {'Date': datetime.date(2024, 9, 23),\n",
       "  'MSFT': (0.863291720253006, 428.02),\n",
       "  'ABBV': (0.2052175990515638, 193.25),\n",
       "  'XOM': (0.5472757921467962, 115.82),\n",
       "  'T': (0.8613790621160854, 21.62),\n",
       "  'MMM': (0.06428036228293371, 137.3),\n",
       "  'Action': 'Buy Index'},\n",
       " {'Date': datetime.date(2024, 9, 30), 'Action': 'Price Out'},\n",
       " {'Date': datetime.date(2024, 10, 7),\n",
       "  'MSFT': (0.8875530988606181, 416.32),\n",
       "  'ABBV': (0.20585167032707347, 192.65),\n",
       "  'XOM': (0.5127860348389844, 123.61),\n",
       "  'T': (0.8827421408990443, 21.1),\n",
       "  'MMM': (0.06549680102126083, 134.75),\n",
       "  'Action': 'Buy Index'},\n",
       " {'Date': datetime.date(2024, 10, 14), 'Action': 'Price Out'}]"
      ]
     },
     "execution_count": 437,
     "metadata": {},
     "output_type": "execute_result"
    }
   ],
   "source": [
    "apd_investor.purchases"
   ]
  },
  {
   "cell_type": "code",
   "execution_count": 440,
   "id": "aa327481",
   "metadata": {},
   "outputs": [],
   "source": [
    "apd_purchases_df = pd.DataFrame(apd_investor.purchases)"
   ]
  },
  {
   "cell_type": "code",
   "execution_count": 441,
   "id": "60192a5d",
   "metadata": {},
   "outputs": [
    {
     "data": {
      "text/html": [
       "<div>\n",
       "<style scoped>\n",
       "    .dataframe tbody tr th:only-of-type {\n",
       "        vertical-align: middle;\n",
       "    }\n",
       "\n",
       "    .dataframe tbody tr th {\n",
       "        vertical-align: top;\n",
       "    }\n",
       "\n",
       "    .dataframe thead th {\n",
       "        text-align: right;\n",
       "    }\n",
       "</style>\n",
       "<table border=\"1\" class=\"dataframe\">\n",
       "  <thead>\n",
       "    <tr style=\"text-align: right;\">\n",
       "      <th></th>\n",
       "      <th>Date</th>\n",
       "      <th>MSFT</th>\n",
       "      <th>ABBV</th>\n",
       "      <th>XOM</th>\n",
       "      <th>T</th>\n",
       "      <th>MMM</th>\n",
       "      <th>Action</th>\n",
       "    </tr>\n",
       "  </thead>\n",
       "  <tbody>\n",
       "    <tr>\n",
       "      <th>0</th>\n",
       "      <td>2022-11-07</td>\n",
       "      <td>(1.5210885048078993, 242.92)</td>\n",
       "      <td>(0.2848161551967824, 139.24)</td>\n",
       "      <td>(0.5947727614943638, 106.57)</td>\n",
       "      <td>(1.107982124633342, 16.81)</td>\n",
       "      <td>(0.08764693750087112, 100.7)</td>\n",
       "      <td>Buy Index</td>\n",
       "    </tr>\n",
       "    <tr>\n",
       "      <th>1</th>\n",
       "      <td>2022-11-14</td>\n",
       "      <td>NaN</td>\n",
       "      <td>NaN</td>\n",
       "      <td>NaN</td>\n",
       "      <td>NaN</td>\n",
       "      <td>NaN</td>\n",
       "      <td>Price Out</td>\n",
       "    </tr>\n",
       "    <tr>\n",
       "      <th>2</th>\n",
       "      <td>2022-11-21</td>\n",
       "      <td>(1.514484765317378, 243.98)</td>\n",
       "      <td>(0.2679362703211667, 148.01)</td>\n",
       "      <td>(0.593879718173335, 106.73)</td>\n",
       "      <td>(1.1039256499534382, 16.87)</td>\n",
       "      <td>(0.08927770162289969, 98.86)</td>\n",
       "      <td>Buy Index</td>\n",
       "    </tr>\n",
       "    <tr>\n",
       "      <th>3</th>\n",
       "      <td>2022-11-28</td>\n",
       "      <td>NaN</td>\n",
       "      <td>NaN</td>\n",
       "      <td>NaN</td>\n",
       "      <td>NaN</td>\n",
       "      <td>NaN</td>\n",
       "      <td>Price Out</td>\n",
       "    </tr>\n",
       "    <tr>\n",
       "      <th>4</th>\n",
       "      <td>2022-12-05</td>\n",
       "      <td>(1.5272588806974219, 241.94)</td>\n",
       "      <td>(0.2622837511705835, 151.2)</td>\n",
       "      <td>(0.6493444239342293, 97.61)</td>\n",
       "      <td>(1.10566046056147, 16.85)</td>\n",
       "      <td>(0.09160619296028928, 96.34)</td>\n",
       "      <td>Buy Index</td>\n",
       "    </tr>\n",
       "  </tbody>\n",
       "</table>\n",
       "</div>"
      ],
      "text/plain": [
       "         Date                          MSFT                          ABBV  \\\n",
       "0  2022-11-07  (1.5210885048078993, 242.92)  (0.2848161551967824, 139.24)   \n",
       "1  2022-11-14                           NaN                           NaN   \n",
       "2  2022-11-21   (1.514484765317378, 243.98)  (0.2679362703211667, 148.01)   \n",
       "3  2022-11-28                           NaN                           NaN   \n",
       "4  2022-12-05  (1.5272588806974219, 241.94)   (0.2622837511705835, 151.2)   \n",
       "\n",
       "                            XOM                            T  \\\n",
       "0  (0.5947727614943638, 106.57)   (1.107982124633342, 16.81)   \n",
       "1                           NaN                          NaN   \n",
       "2   (0.593879718173335, 106.73)  (1.1039256499534382, 16.87)   \n",
       "3                           NaN                          NaN   \n",
       "4   (0.6493444239342293, 97.61)    (1.10566046056147, 16.85)   \n",
       "\n",
       "                            MMM     Action  \n",
       "0  (0.08764693750087112, 100.7)  Buy Index  \n",
       "1                           NaN  Price Out  \n",
       "2  (0.08927770162289969, 98.86)  Buy Index  \n",
       "3                           NaN  Price Out  \n",
       "4  (0.09160619296028928, 96.34)  Buy Index  "
      ]
     },
     "execution_count": 441,
     "metadata": {},
     "output_type": "execute_result"
    }
   ],
   "source": [
    "apd_purchases_df.head()"
   ]
  },
  {
   "cell_type": "code",
   "execution_count": 442,
   "id": "80b24255",
   "metadata": {},
   "outputs": [],
   "source": [
    "apd_purchases_df_clean = apd_purchases_df.dropna()"
   ]
  },
  {
   "cell_type": "code",
   "execution_count": 443,
   "id": "952468ca",
   "metadata": {},
   "outputs": [
    {
     "data": {
      "text/html": [
       "<div>\n",
       "<style scoped>\n",
       "    .dataframe tbody tr th:only-of-type {\n",
       "        vertical-align: middle;\n",
       "    }\n",
       "\n",
       "    .dataframe tbody tr th {\n",
       "        vertical-align: top;\n",
       "    }\n",
       "\n",
       "    .dataframe thead th {\n",
       "        text-align: right;\n",
       "    }\n",
       "</style>\n",
       "<table border=\"1\" class=\"dataframe\">\n",
       "  <thead>\n",
       "    <tr style=\"text-align: right;\">\n",
       "      <th></th>\n",
       "      <th>Date</th>\n",
       "      <th>MSFT</th>\n",
       "      <th>ABBV</th>\n",
       "      <th>XOM</th>\n",
       "      <th>T</th>\n",
       "      <th>MMM</th>\n",
       "      <th>Action</th>\n",
       "    </tr>\n",
       "  </thead>\n",
       "  <tbody>\n",
       "    <tr>\n",
       "      <th>0</th>\n",
       "      <td>2022-11-07</td>\n",
       "      <td>(1.5210885048078993, 242.92)</td>\n",
       "      <td>(0.2848161551967824, 139.24)</td>\n",
       "      <td>(0.5947727614943638, 106.57)</td>\n",
       "      <td>(1.107982124633342, 16.81)</td>\n",
       "      <td>(0.08764693750087112, 100.7)</td>\n",
       "      <td>Buy Index</td>\n",
       "    </tr>\n",
       "    <tr>\n",
       "      <th>2</th>\n",
       "      <td>2022-11-21</td>\n",
       "      <td>(1.514484765317378, 243.98)</td>\n",
       "      <td>(0.2679362703211667, 148.01)</td>\n",
       "      <td>(0.593879718173335, 106.73)</td>\n",
       "      <td>(1.1039256499534382, 16.87)</td>\n",
       "      <td>(0.08927770162289969, 98.86)</td>\n",
       "      <td>Buy Index</td>\n",
       "    </tr>\n",
       "    <tr>\n",
       "      <th>4</th>\n",
       "      <td>2022-12-05</td>\n",
       "      <td>(1.5272588806974219, 241.94)</td>\n",
       "      <td>(0.2622837511705835, 151.2)</td>\n",
       "      <td>(0.6493444239342293, 97.61)</td>\n",
       "      <td>(1.10566046056147, 16.85)</td>\n",
       "      <td>(0.09160619296028928, 96.34)</td>\n",
       "      <td>Buy Index</td>\n",
       "    </tr>\n",
       "    <tr>\n",
       "      <th>6</th>\n",
       "      <td>2022-12-19</td>\n",
       "      <td>(1.5700575764472204, 235.35)</td>\n",
       "      <td>(0.2622194475110538, 151.24)</td>\n",
       "      <td>(0.6186338381486788, 102.46)</td>\n",
       "      <td>(1.1527615658473889, 16.16)</td>\n",
       "      <td>(0.0958914170063212, 92.04)</td>\n",
       "      <td>Buy Index</td>\n",
       "    </tr>\n",
       "    <tr>\n",
       "      <th>8</th>\n",
       "      <td>2023-01-02</td>\n",
       "      <td>(1.9302277371672527, 221.74)</td>\n",
       "      <td>(0.10139339138607746, 154.44)</td>\n",
       "      <td>(0.3080559070035233, 104.2)</td>\n",
       "      <td>(0.7096017007543208, 17.23)</td>\n",
       "      <td>(0.12361346323676942, 97.08)</td>\n",
       "      <td>Buy APD</td>\n",
       "    </tr>\n",
       "  </tbody>\n",
       "</table>\n",
       "</div>"
      ],
      "text/plain": [
       "         Date                          MSFT                           ABBV  \\\n",
       "0  2022-11-07  (1.5210885048078993, 242.92)   (0.2848161551967824, 139.24)   \n",
       "2  2022-11-21   (1.514484765317378, 243.98)   (0.2679362703211667, 148.01)   \n",
       "4  2022-12-05  (1.5272588806974219, 241.94)    (0.2622837511705835, 151.2)   \n",
       "6  2022-12-19  (1.5700575764472204, 235.35)   (0.2622194475110538, 151.24)   \n",
       "8  2023-01-02  (1.9302277371672527, 221.74)  (0.10139339138607746, 154.44)   \n",
       "\n",
       "                            XOM                            T  \\\n",
       "0  (0.5947727614943638, 106.57)   (1.107982124633342, 16.81)   \n",
       "2   (0.593879718173335, 106.73)  (1.1039256499534382, 16.87)   \n",
       "4   (0.6493444239342293, 97.61)    (1.10566046056147, 16.85)   \n",
       "6  (0.6186338381486788, 102.46)  (1.1527615658473889, 16.16)   \n",
       "8   (0.3080559070035233, 104.2)  (0.7096017007543208, 17.23)   \n",
       "\n",
       "                            MMM     Action  \n",
       "0  (0.08764693750087112, 100.7)  Buy Index  \n",
       "2  (0.08927770162289969, 98.86)  Buy Index  \n",
       "4  (0.09160619296028928, 96.34)  Buy Index  \n",
       "6   (0.0958914170063212, 92.04)  Buy Index  \n",
       "8  (0.12361346323676942, 97.08)    Buy APD  "
      ]
     },
     "execution_count": 443,
     "metadata": {},
     "output_type": "execute_result"
    }
   ],
   "source": [
    "apd_purchases_df_clean.head()"
   ]
  },
  {
   "cell_type": "code",
   "execution_count": 458,
   "id": "47910c46",
   "metadata": {},
   "outputs": [],
   "source": [
    "def split_shares_prices(df, columns):\n",
    "    df = df.copy()\n",
    "    for col in columns:\n",
    "        col_name = col+'_shares'\n",
    "        df[col_name] = df[col].apply(lambda x: x[0])\n",
    "        col_name = col+'_price'\n",
    "        df[col_name] = df[col].apply(lambda x: x[1])\n",
    "        df = df.drop(columns=col)\n",
    "    return(df)"
   ]
  },
  {
   "cell_type": "code",
   "execution_count": 504,
   "id": "35f1d5d0",
   "metadata": {},
   "outputs": [],
   "source": [
    "def calc_cost_gains(df, columns, prices):\n",
    "    cost_df = pd.DataFrame()\n",
    "    for col in columns:\n",
    "        col_name = col+'_cost'\n",
    "        cost_df[col_name] = df[col].apply(lambda x: x[0]*x[1])\n",
    "        col_name = col+'_gl'\n",
    "        cost_df[col_name] = df[col].apply(lambda x: x[0]*prices[col] - x[0]*x[1])\n",
    "    return(cost_df)"
   ]
  },
  {
   "cell_type": "code",
   "execution_count": 465,
   "id": "3347df90",
   "metadata": {
    "scrolled": true
   },
   "outputs": [],
   "source": [
    "apd_purchases_df_clean = split_shares_prices(apd_purchases_df_clean, tickers)"
   ]
  },
  {
   "cell_type": "code",
   "execution_count": 470,
   "id": "dd582628",
   "metadata": {
    "scrolled": true
   },
   "outputs": [],
   "source": [
    "if_purchases_df = pd.DataFrame(index_fund_investor.purchases)"
   ]
  },
  {
   "cell_type": "code",
   "execution_count": 471,
   "id": "3e985a10",
   "metadata": {},
   "outputs": [],
   "source": [
    "if_purchases_df_clean = if_purchases_df.dropna()"
   ]
  },
  {
   "cell_type": "code",
   "execution_count": 472,
   "id": "e8020849",
   "metadata": {
    "scrolled": true
   },
   "outputs": [],
   "source": [
    "if_purchases_df_clean = split_shares_prices(if_purchases_df_clean, tickers)"
   ]
  },
  {
   "cell_type": "code",
   "execution_count": 518,
   "id": "db33ea3b",
   "metadata": {},
   "outputs": [
    {
     "data": {
      "text/html": [
       "<div>\n",
       "<style scoped>\n",
       "    .dataframe tbody tr th:only-of-type {\n",
       "        vertical-align: middle;\n",
       "    }\n",
       "\n",
       "    .dataframe tbody tr th {\n",
       "        vertical-align: top;\n",
       "    }\n",
       "\n",
       "    .dataframe thead th {\n",
       "        text-align: right;\n",
       "    }\n",
       "</style>\n",
       "<table border=\"1\" class=\"dataframe\">\n",
       "  <thead>\n",
       "    <tr style=\"text-align: right;\">\n",
       "      <th></th>\n",
       "      <th>Date</th>\n",
       "      <th>Action</th>\n",
       "      <th>MSFT_shares</th>\n",
       "      <th>MSFT_price</th>\n",
       "      <th>ABBV_shares</th>\n",
       "      <th>ABBV_price</th>\n",
       "      <th>XOM_shares</th>\n",
       "      <th>XOM_price</th>\n",
       "      <th>T_shares</th>\n",
       "      <th>T_price</th>\n",
       "      <th>MMM_shares</th>\n",
       "      <th>MMM_price</th>\n",
       "    </tr>\n",
       "  </thead>\n",
       "  <tbody>\n",
       "    <tr>\n",
       "      <th>0</th>\n",
       "      <td>2022-11-07</td>\n",
       "      <td>Buy Index</td>\n",
       "      <td>1.521089</td>\n",
       "      <td>242.92</td>\n",
       "      <td>0.284816</td>\n",
       "      <td>139.24</td>\n",
       "      <td>0.594773</td>\n",
       "      <td>106.57</td>\n",
       "      <td>1.107982</td>\n",
       "      <td>16.81</td>\n",
       "      <td>0.087647</td>\n",
       "      <td>100.70</td>\n",
       "    </tr>\n",
       "    <tr>\n",
       "      <th>2</th>\n",
       "      <td>2022-11-21</td>\n",
       "      <td>Buy Index</td>\n",
       "      <td>1.514485</td>\n",
       "      <td>243.98</td>\n",
       "      <td>0.267936</td>\n",
       "      <td>148.01</td>\n",
       "      <td>0.593880</td>\n",
       "      <td>106.73</td>\n",
       "      <td>1.103926</td>\n",
       "      <td>16.87</td>\n",
       "      <td>0.089278</td>\n",
       "      <td>98.86</td>\n",
       "    </tr>\n",
       "    <tr>\n",
       "      <th>4</th>\n",
       "      <td>2022-12-05</td>\n",
       "      <td>Buy Index</td>\n",
       "      <td>1.527259</td>\n",
       "      <td>241.94</td>\n",
       "      <td>0.262284</td>\n",
       "      <td>151.20</td>\n",
       "      <td>0.649344</td>\n",
       "      <td>97.61</td>\n",
       "      <td>1.105660</td>\n",
       "      <td>16.85</td>\n",
       "      <td>0.091606</td>\n",
       "      <td>96.34</td>\n",
       "    </tr>\n",
       "    <tr>\n",
       "      <th>6</th>\n",
       "      <td>2022-12-19</td>\n",
       "      <td>Buy Index</td>\n",
       "      <td>1.570058</td>\n",
       "      <td>235.35</td>\n",
       "      <td>0.262219</td>\n",
       "      <td>151.24</td>\n",
       "      <td>0.618634</td>\n",
       "      <td>102.46</td>\n",
       "      <td>1.152762</td>\n",
       "      <td>16.16</td>\n",
       "      <td>0.095891</td>\n",
       "      <td>92.04</td>\n",
       "    </tr>\n",
       "    <tr>\n",
       "      <th>8</th>\n",
       "      <td>2023-01-02</td>\n",
       "      <td>Buy Index</td>\n",
       "      <td>1.666384</td>\n",
       "      <td>221.74</td>\n",
       "      <td>0.256788</td>\n",
       "      <td>154.44</td>\n",
       "      <td>0.608279</td>\n",
       "      <td>104.20</td>\n",
       "      <td>1.080751</td>\n",
       "      <td>17.23</td>\n",
       "      <td>0.090912</td>\n",
       "      <td>97.08</td>\n",
       "    </tr>\n",
       "  </tbody>\n",
       "</table>\n",
       "</div>"
      ],
      "text/plain": [
       "         Date     Action  MSFT_shares  MSFT_price  ABBV_shares  ABBV_price  \\\n",
       "0  2022-11-07  Buy Index     1.521089      242.92     0.284816      139.24   \n",
       "2  2022-11-21  Buy Index     1.514485      243.98     0.267936      148.01   \n",
       "4  2022-12-05  Buy Index     1.527259      241.94     0.262284      151.20   \n",
       "6  2022-12-19  Buy Index     1.570058      235.35     0.262219      151.24   \n",
       "8  2023-01-02  Buy Index     1.666384      221.74     0.256788      154.44   \n",
       "\n",
       "   XOM_shares  XOM_price  T_shares  T_price  MMM_shares  MMM_price  \n",
       "0    0.594773     106.57  1.107982    16.81    0.087647     100.70  \n",
       "2    0.593880     106.73  1.103926    16.87    0.089278      98.86  \n",
       "4    0.649344      97.61  1.105660    16.85    0.091606      96.34  \n",
       "6    0.618634     102.46  1.152762    16.16    0.095891      92.04  \n",
       "8    0.608279     104.20  1.080751    17.23    0.090912      97.08  "
      ]
     },
     "execution_count": 518,
     "metadata": {},
     "output_type": "execute_result"
    }
   ],
   "source": [
    "if_purchases_df_clean.head()"
   ]
  },
  {
   "cell_type": "code",
   "execution_count": 519,
   "id": "12104261",
   "metadata": {},
   "outputs": [],
   "source": [
    "if_purchases_df_clean.to_csv('if_purchases_cleaned.txt', index_label='week', sep=' ')"
   ]
  },
  {
   "cell_type": "code",
   "execution_count": 520,
   "id": "570ca891",
   "metadata": {},
   "outputs": [
    {
     "data": {
      "text/html": [
       "<div>\n",
       "<style scoped>\n",
       "    .dataframe tbody tr th:only-of-type {\n",
       "        vertical-align: middle;\n",
       "    }\n",
       "\n",
       "    .dataframe tbody tr th {\n",
       "        vertical-align: top;\n",
       "    }\n",
       "\n",
       "    .dataframe thead th {\n",
       "        text-align: right;\n",
       "    }\n",
       "</style>\n",
       "<table border=\"1\" class=\"dataframe\">\n",
       "  <thead>\n",
       "    <tr style=\"text-align: right;\">\n",
       "      <th></th>\n",
       "      <th>Date</th>\n",
       "      <th>Action</th>\n",
       "      <th>MSFT_shares</th>\n",
       "      <th>MSFT_price</th>\n",
       "      <th>ABBV_shares</th>\n",
       "      <th>ABBV_price</th>\n",
       "      <th>XOM_shares</th>\n",
       "      <th>XOM_price</th>\n",
       "      <th>T_shares</th>\n",
       "      <th>T_price</th>\n",
       "      <th>MMM_shares</th>\n",
       "      <th>MMM_price</th>\n",
       "    </tr>\n",
       "  </thead>\n",
       "  <tbody>\n",
       "    <tr>\n",
       "      <th>0</th>\n",
       "      <td>2022-11-07</td>\n",
       "      <td>Buy Index</td>\n",
       "      <td>1.521089</td>\n",
       "      <td>242.92</td>\n",
       "      <td>0.284816</td>\n",
       "      <td>139.24</td>\n",
       "      <td>0.594773</td>\n",
       "      <td>106.57</td>\n",
       "      <td>1.107982</td>\n",
       "      <td>16.81</td>\n",
       "      <td>0.087647</td>\n",
       "      <td>100.70</td>\n",
       "    </tr>\n",
       "    <tr>\n",
       "      <th>2</th>\n",
       "      <td>2022-11-21</td>\n",
       "      <td>Buy Index</td>\n",
       "      <td>1.514485</td>\n",
       "      <td>243.98</td>\n",
       "      <td>0.267936</td>\n",
       "      <td>148.01</td>\n",
       "      <td>0.593880</td>\n",
       "      <td>106.73</td>\n",
       "      <td>1.103926</td>\n",
       "      <td>16.87</td>\n",
       "      <td>0.089278</td>\n",
       "      <td>98.86</td>\n",
       "    </tr>\n",
       "    <tr>\n",
       "      <th>4</th>\n",
       "      <td>2022-12-05</td>\n",
       "      <td>Buy Index</td>\n",
       "      <td>1.527259</td>\n",
       "      <td>241.94</td>\n",
       "      <td>0.262284</td>\n",
       "      <td>151.20</td>\n",
       "      <td>0.649344</td>\n",
       "      <td>97.61</td>\n",
       "      <td>1.105660</td>\n",
       "      <td>16.85</td>\n",
       "      <td>0.091606</td>\n",
       "      <td>96.34</td>\n",
       "    </tr>\n",
       "    <tr>\n",
       "      <th>6</th>\n",
       "      <td>2022-12-19</td>\n",
       "      <td>Buy Index</td>\n",
       "      <td>1.570058</td>\n",
       "      <td>235.35</td>\n",
       "      <td>0.262219</td>\n",
       "      <td>151.24</td>\n",
       "      <td>0.618634</td>\n",
       "      <td>102.46</td>\n",
       "      <td>1.152762</td>\n",
       "      <td>16.16</td>\n",
       "      <td>0.095891</td>\n",
       "      <td>92.04</td>\n",
       "    </tr>\n",
       "    <tr>\n",
       "      <th>8</th>\n",
       "      <td>2023-01-02</td>\n",
       "      <td>Buy APD</td>\n",
       "      <td>1.930228</td>\n",
       "      <td>221.74</td>\n",
       "      <td>0.101393</td>\n",
       "      <td>154.44</td>\n",
       "      <td>0.308056</td>\n",
       "      <td>104.20</td>\n",
       "      <td>0.709602</td>\n",
       "      <td>17.23</td>\n",
       "      <td>0.123613</td>\n",
       "      <td>97.08</td>\n",
       "    </tr>\n",
       "  </tbody>\n",
       "</table>\n",
       "</div>"
      ],
      "text/plain": [
       "         Date     Action  MSFT_shares  MSFT_price  ABBV_shares  ABBV_price  \\\n",
       "0  2022-11-07  Buy Index     1.521089      242.92     0.284816      139.24   \n",
       "2  2022-11-21  Buy Index     1.514485      243.98     0.267936      148.01   \n",
       "4  2022-12-05  Buy Index     1.527259      241.94     0.262284      151.20   \n",
       "6  2022-12-19  Buy Index     1.570058      235.35     0.262219      151.24   \n",
       "8  2023-01-02    Buy APD     1.930228      221.74     0.101393      154.44   \n",
       "\n",
       "   XOM_shares  XOM_price  T_shares  T_price  MMM_shares  MMM_price  \n",
       "0    0.594773     106.57  1.107982    16.81    0.087647     100.70  \n",
       "2    0.593880     106.73  1.103926    16.87    0.089278      98.86  \n",
       "4    0.649344      97.61  1.105660    16.85    0.091606      96.34  \n",
       "6    0.618634     102.46  1.152762    16.16    0.095891      92.04  \n",
       "8    0.308056     104.20  0.709602    17.23    0.123613      97.08  "
      ]
     },
     "execution_count": 520,
     "metadata": {},
     "output_type": "execute_result"
    }
   ],
   "source": [
    "apd_purchases_df_clean.head()"
   ]
  },
  {
   "cell_type": "code",
   "execution_count": 521,
   "id": "7e453da2",
   "metadata": {},
   "outputs": [],
   "source": [
    "apd_purchases_df_clean.to_csv('apd_purchases_cleaned.txt', index_label='week', sep=' ')"
   ]
  },
  {
   "cell_type": "code",
   "execution_count": 464,
   "id": "c44d9036",
   "metadata": {
    "scrolled": false
   },
   "outputs": [
    {
     "data": {
      "text/plain": [
       "Action\n",
       "Buy Index    42\n",
       "Buy APD       9\n",
       "Name: count, dtype: int64"
      ]
     },
     "execution_count": 464,
     "metadata": {},
     "output_type": "execute_result"
    }
   ],
   "source": [
    "apd_purchases_df_clean.Action.value_counts()"
   ]
  },
  {
   "cell_type": "code",
   "execution_count": 483,
   "id": "f9792c52",
   "metadata": {},
   "outputs": [],
   "source": [
    "if_avg_std = {}\n",
    "apd_avg_std = {}"
   ]
  },
  {
   "cell_type": "code",
   "execution_count": 485,
   "id": "9668baa7",
   "metadata": {},
   "outputs": [],
   "source": [
    "if_avg_std['msft_avg'], if_avg_std['msft_std'] = weighted_avg_and_std(if_purchases_df_clean.MSFT_price, if_purchases_df_clean.MSFT_shares)\n",
    "if_avg_std['abbv_avg'], if_avg_std['abbv_std'] = weighted_avg_and_std(if_purchases_df_clean.ABBV_price, if_purchases_df_clean.ABBV_shares)\n",
    "if_avg_std['xom_avg'], if_avg_std['xom_std'] = weighted_avg_and_std(if_purchases_df_clean.XOM_price, if_purchases_df_clean.XOM_shares)\n",
    "if_avg_std['t_avg'], if_avg_std['t_std'] = weighted_avg_and_std(if_purchases_df_clean.T_price, if_purchases_df_clean.T_shares)\n",
    "if_avg_std['mmm_avg'], if_avg_std['mmm_std'] = weighted_avg_and_std(if_purchases_df_clean.MMM_price, if_purchases_df_clean.MMM_shares)\n"
   ]
  },
  {
   "cell_type": "code",
   "execution_count": 486,
   "id": "69f8d29f",
   "metadata": {},
   "outputs": [],
   "source": [
    "apd_avg_std['msft_avg'], apd_avg_std['msft_std'] = weighted_avg_and_std(apd_purchases_df_clean.MSFT_price, apd_purchases_df_clean.MSFT_shares)\n",
    "apd_avg_std['abbv_avg'], apd_avg_std['abbv_std'] = weighted_avg_and_std(apd_purchases_df_clean.ABBV_price, apd_purchases_df_clean.ABBV_shares)\n",
    "apd_avg_std['xom_avg'], apd_avg_std['xom_std'] = weighted_avg_and_std(apd_purchases_df_clean.XOM_price, apd_purchases_df_clean.XOM_shares)\n",
    "apd_avg_std['t_avg'], apd_avg_std['t_std'] = weighted_avg_and_std(apd_purchases_df_clean.T_price, apd_purchases_df_clean.T_shares)\n",
    "apd_avg_std['mmm_avg'], apd_avg_std['mmm_std'] = weighted_avg_and_std(apd_purchases_df_clean.MMM_price, apd_purchases_df_clean.MMM_shares)\n"
   ]
  },
  {
   "cell_type": "code",
   "execution_count": 487,
   "id": "06833959",
   "metadata": {},
   "outputs": [],
   "source": [
    "avg_std = pd.DataFrame([if_avg_std, apd_avg_std], index=['if', 'apd'])"
   ]
  },
  {
   "cell_type": "code",
   "execution_count": 488,
   "id": "9b15a985",
   "metadata": {},
   "outputs": [
    {
     "data": {
      "text/html": [
       "<div>\n",
       "<style scoped>\n",
       "    .dataframe tbody tr th:only-of-type {\n",
       "        vertical-align: middle;\n",
       "    }\n",
       "\n",
       "    .dataframe tbody tr th {\n",
       "        vertical-align: top;\n",
       "    }\n",
       "\n",
       "    .dataframe thead th {\n",
       "        text-align: right;\n",
       "    }\n",
       "</style>\n",
       "<table border=\"1\" class=\"dataframe\">\n",
       "  <thead>\n",
       "    <tr style=\"text-align: right;\">\n",
       "      <th></th>\n",
       "      <th>msft_avg</th>\n",
       "      <th>msft_std</th>\n",
       "      <th>abbv_avg</th>\n",
       "      <th>abbv_std</th>\n",
       "      <th>xom_avg</th>\n",
       "      <th>xom_std</th>\n",
       "      <th>t_avg</th>\n",
       "      <th>t_std</th>\n",
       "      <th>mmm_avg</th>\n",
       "      <th>mmm_std</th>\n",
       "    </tr>\n",
       "  </thead>\n",
       "  <tbody>\n",
       "    <tr>\n",
       "      <th>if</th>\n",
       "      <td>334.979454</td>\n",
       "      <td>69.701788</td>\n",
       "      <td>152.147751</td>\n",
       "      <td>17.846774</td>\n",
       "      <td>106.467824</td>\n",
       "      <td>6.907012</td>\n",
       "      <td>16.189348</td>\n",
       "      <td>2.001696</td>\n",
       "      <td>88.645479</td>\n",
       "      <td>15.268496</td>\n",
       "    </tr>\n",
       "    <tr>\n",
       "      <th>apd</th>\n",
       "      <td>339.097114</td>\n",
       "      <td>70.117378</td>\n",
       "      <td>149.551351</td>\n",
       "      <td>16.344348</td>\n",
       "      <td>105.148647</td>\n",
       "      <td>7.177537</td>\n",
       "      <td>15.618926</td>\n",
       "      <td>1.755587</td>\n",
       "      <td>88.965960</td>\n",
       "      <td>10.213364</td>\n",
       "    </tr>\n",
       "  </tbody>\n",
       "</table>\n",
       "</div>"
      ],
      "text/plain": [
       "       msft_avg   msft_std    abbv_avg   abbv_std     xom_avg   xom_std  \\\n",
       "if   334.979454  69.701788  152.147751  17.846774  106.467824  6.907012   \n",
       "apd  339.097114  70.117378  149.551351  16.344348  105.148647  7.177537   \n",
       "\n",
       "         t_avg     t_std    mmm_avg    mmm_std  \n",
       "if   16.189348  2.001696  88.645479  15.268496  \n",
       "apd  15.618926  1.755587  88.965960  10.213364  "
      ]
     },
     "execution_count": 488,
     "metadata": {},
     "output_type": "execute_result"
    }
   ],
   "source": [
    "avg_std"
   ]
  },
  {
   "cell_type": "code",
   "execution_count": 489,
   "id": "f7bfa99c",
   "metadata": {},
   "outputs": [],
   "source": [
    "avg_std.to_csv('dca_strategy_avg_std.txt', index_label='strategy', sep=' ')"
   ]
  },
  {
   "cell_type": "code",
   "execution_count": 498,
   "id": "2479d024",
   "metadata": {},
   "outputs": [],
   "source": [
    "X_if = if_purchases_df.dropna().drop(columns=['Action'])"
   ]
  },
  {
   "cell_type": "code",
   "execution_count": 499,
   "id": "8e52bafa",
   "metadata": {},
   "outputs": [],
   "source": [
    "X_apd = apd_purchases_df.dropna().drop(columns=['Action'])"
   ]
  },
  {
   "cell_type": "code",
   "execution_count": 496,
   "id": "0f9eb2a5",
   "metadata": {},
   "outputs": [
    {
     "data": {
      "text/html": [
       "<div>\n",
       "<style scoped>\n",
       "    .dataframe tbody tr th:only-of-type {\n",
       "        vertical-align: middle;\n",
       "    }\n",
       "\n",
       "    .dataframe tbody tr th {\n",
       "        vertical-align: top;\n",
       "    }\n",
       "\n",
       "    .dataframe thead th {\n",
       "        text-align: right;\n",
       "    }\n",
       "</style>\n",
       "<table border=\"1\" class=\"dataframe\">\n",
       "  <thead>\n",
       "    <tr style=\"text-align: right;\">\n",
       "      <th></th>\n",
       "      <th>MSFT</th>\n",
       "      <th>ABBV</th>\n",
       "      <th>XOM</th>\n",
       "      <th>T</th>\n",
       "      <th>MMM</th>\n",
       "    </tr>\n",
       "  </thead>\n",
       "  <tbody>\n",
       "    <tr>\n",
       "      <th>0</th>\n",
       "      <td>(1.5210885048078993, 242.92)</td>\n",
       "      <td>(0.2848161551967824, 139.24)</td>\n",
       "      <td>(0.5947727614943638, 106.57)</td>\n",
       "      <td>(1.107982124633342, 16.81)</td>\n",
       "      <td>(0.08764693750087112, 100.7)</td>\n",
       "    </tr>\n",
       "    <tr>\n",
       "      <th>2</th>\n",
       "      <td>(1.514484765317378, 243.98)</td>\n",
       "      <td>(0.2679362703211667, 148.01)</td>\n",
       "      <td>(0.593879718173335, 106.73)</td>\n",
       "      <td>(1.1039256499534382, 16.87)</td>\n",
       "      <td>(0.08927770162289969, 98.86)</td>\n",
       "    </tr>\n",
       "    <tr>\n",
       "      <th>4</th>\n",
       "      <td>(1.5272588806974219, 241.94)</td>\n",
       "      <td>(0.2622837511705835, 151.2)</td>\n",
       "      <td>(0.6493444239342293, 97.61)</td>\n",
       "      <td>(1.10566046056147, 16.85)</td>\n",
       "      <td>(0.09160619296028928, 96.34)</td>\n",
       "    </tr>\n",
       "    <tr>\n",
       "      <th>6</th>\n",
       "      <td>(1.5700575764472204, 235.35)</td>\n",
       "      <td>(0.2622194475110538, 151.24)</td>\n",
       "      <td>(0.6186338381486788, 102.46)</td>\n",
       "      <td>(1.1527615658473889, 16.16)</td>\n",
       "      <td>(0.0958914170063212, 92.04)</td>\n",
       "    </tr>\n",
       "    <tr>\n",
       "      <th>8</th>\n",
       "      <td>(1.666384480611656, 221.74)</td>\n",
       "      <td>(0.2567877003851033, 154.44)</td>\n",
       "      <td>(0.6082793990023653, 104.2)</td>\n",
       "      <td>(1.080750680369371, 17.23)</td>\n",
       "      <td>(0.09091220528648665, 97.08)</td>\n",
       "    </tr>\n",
       "  </tbody>\n",
       "</table>\n",
       "</div>"
      ],
      "text/plain": [
       "                           MSFT                          ABBV  \\\n",
       "0  (1.5210885048078993, 242.92)  (0.2848161551967824, 139.24)   \n",
       "2   (1.514484765317378, 243.98)  (0.2679362703211667, 148.01)   \n",
       "4  (1.5272588806974219, 241.94)   (0.2622837511705835, 151.2)   \n",
       "6  (1.5700575764472204, 235.35)  (0.2622194475110538, 151.24)   \n",
       "8   (1.666384480611656, 221.74)  (0.2567877003851033, 154.44)   \n",
       "\n",
       "                            XOM                            T  \\\n",
       "0  (0.5947727614943638, 106.57)   (1.107982124633342, 16.81)   \n",
       "2   (0.593879718173335, 106.73)  (1.1039256499534382, 16.87)   \n",
       "4   (0.6493444239342293, 97.61)    (1.10566046056147, 16.85)   \n",
       "6  (0.6186338381486788, 102.46)  (1.1527615658473889, 16.16)   \n",
       "8   (0.6082793990023653, 104.2)   (1.080750680369371, 17.23)   \n",
       "\n",
       "                            MMM  \n",
       "0  (0.08764693750087112, 100.7)  \n",
       "2  (0.08927770162289969, 98.86)  \n",
       "4  (0.09160619296028928, 96.34)  \n",
       "6   (0.0958914170063212, 92.04)  \n",
       "8  (0.09091220528648665, 97.08)  "
      ]
     },
     "execution_count": 496,
     "metadata": {},
     "output_type": "execute_result"
    }
   ],
   "source": [
    "X_if.head()"
   ]
  },
  {
   "cell_type": "code",
   "execution_count": 491,
   "id": "60f068aa",
   "metadata": {},
   "outputs": [
    {
     "data": {
      "text/plain": [
       "datetime.date(2024, 10, 14)"
      ]
     },
     "execution_count": 491,
     "metadata": {},
     "output_type": "execute_result"
    }
   ],
   "source": [
    "final_date"
   ]
  },
  {
   "cell_type": "code",
   "execution_count": 493,
   "id": "8e91020a",
   "metadata": {},
   "outputs": [
    {
     "data": {
      "text/plain": [
       "{'MSFT': 418.1600036621094,\n",
       " 'ABBV': 188.86000061035156,\n",
       " 'XOM': 120.01000213623047,\n",
       " 'T': 21.850000381469727,\n",
       " 'MMM': 135.13999938964844}"
      ]
     },
     "execution_count": 493,
     "metadata": {},
     "output_type": "execute_result"
    }
   ],
   "source": [
    "final_prices = bc5.get_prices(final_date)\n",
    "final_prices"
   ]
  },
  {
   "cell_type": "code",
   "execution_count": 505,
   "id": "722f1aa8",
   "metadata": {},
   "outputs": [],
   "source": [
    "if_cost_gain = calc_cost_gains(X_if, tickers, final_prices)"
   ]
  },
  {
   "cell_type": "code",
   "execution_count": 506,
   "id": "3f8238bf",
   "metadata": {},
   "outputs": [
    {
     "data": {
      "text/html": [
       "<div>\n",
       "<style scoped>\n",
       "    .dataframe tbody tr th:only-of-type {\n",
       "        vertical-align: middle;\n",
       "    }\n",
       "\n",
       "    .dataframe tbody tr th {\n",
       "        vertical-align: top;\n",
       "    }\n",
       "\n",
       "    .dataframe thead th {\n",
       "        text-align: right;\n",
       "    }\n",
       "</style>\n",
       "<table border=\"1\" class=\"dataframe\">\n",
       "  <thead>\n",
       "    <tr style=\"text-align: right;\">\n",
       "      <th></th>\n",
       "      <th>MSFT_cost</th>\n",
       "      <th>MSFT_gl</th>\n",
       "      <th>ABBV_cost</th>\n",
       "      <th>ABBV_gl</th>\n",
       "      <th>XOM_cost</th>\n",
       "      <th>XOM_gl</th>\n",
       "      <th>T_cost</th>\n",
       "      <th>T_gl</th>\n",
       "      <th>MMM_cost</th>\n",
       "      <th>MMM_gl</th>\n",
       "    </tr>\n",
       "  </thead>\n",
       "  <tbody>\n",
       "    <tr>\n",
       "      <th>0</th>\n",
       "      <td>369.502820</td>\n",
       "      <td>266.555555</td>\n",
       "      <td>39.657801</td>\n",
       "      <td>14.132578</td>\n",
       "      <td>63.384933</td>\n",
       "      <td>7.993747</td>\n",
       "      <td>18.625180</td>\n",
       "      <td>5.584230</td>\n",
       "      <td>8.826047</td>\n",
       "      <td>3.018560</td>\n",
       "    </tr>\n",
       "    <tr>\n",
       "      <th>2</th>\n",
       "      <td>369.503993</td>\n",
       "      <td>263.792962</td>\n",
       "      <td>39.657247</td>\n",
       "      <td>10.945197</td>\n",
       "      <td>63.384782</td>\n",
       "      <td>7.886724</td>\n",
       "      <td>18.623226</td>\n",
       "      <td>5.497550</td>\n",
       "      <td>8.825994</td>\n",
       "      <td>3.238995</td>\n",
       "    </tr>\n",
       "    <tr>\n",
       "      <th>4</th>\n",
       "      <td>369.505014</td>\n",
       "      <td>269.133566</td>\n",
       "      <td>39.657303</td>\n",
       "      <td>9.877606</td>\n",
       "      <td>63.382509</td>\n",
       "      <td>14.545316</td>\n",
       "      <td>18.630379</td>\n",
       "      <td>5.528303</td>\n",
       "      <td>8.825341</td>\n",
       "      <td>3.554320</td>\n",
       "    </tr>\n",
       "    <tr>\n",
       "      <th>6</th>\n",
       "      <td>369.513051</td>\n",
       "      <td>287.022231</td>\n",
       "      <td>39.658069</td>\n",
       "      <td>9.864696</td>\n",
       "      <td>63.385223</td>\n",
       "      <td>10.857025</td>\n",
       "      <td>18.628627</td>\n",
       "      <td>6.559214</td>\n",
       "      <td>8.825846</td>\n",
       "      <td>4.132920</td>\n",
       "    </tr>\n",
       "    <tr>\n",
       "      <th>8</th>\n",
       "      <td>369.504095</td>\n",
       "      <td>327.311246</td>\n",
       "      <td>39.658292</td>\n",
       "      <td>8.838633</td>\n",
       "      <td>63.382713</td>\n",
       "      <td>9.616899</td>\n",
       "      <td>18.621334</td>\n",
       "      <td>4.993069</td>\n",
       "      <td>8.825757</td>\n",
       "      <td>3.460118</td>\n",
       "    </tr>\n",
       "  </tbody>\n",
       "</table>\n",
       "</div>"
      ],
      "text/plain": [
       "    MSFT_cost     MSFT_gl  ABBV_cost    ABBV_gl   XOM_cost     XOM_gl  \\\n",
       "0  369.502820  266.555555  39.657801  14.132578  63.384933   7.993747   \n",
       "2  369.503993  263.792962  39.657247  10.945197  63.384782   7.886724   \n",
       "4  369.505014  269.133566  39.657303   9.877606  63.382509  14.545316   \n",
       "6  369.513051  287.022231  39.658069   9.864696  63.385223  10.857025   \n",
       "8  369.504095  327.311246  39.658292   8.838633  63.382713   9.616899   \n",
       "\n",
       "      T_cost      T_gl  MMM_cost    MMM_gl  \n",
       "0  18.625180  5.584230  8.826047  3.018560  \n",
       "2  18.623226  5.497550  8.825994  3.238995  \n",
       "4  18.630379  5.528303  8.825341  3.554320  \n",
       "6  18.628627  6.559214  8.825846  4.132920  \n",
       "8  18.621334  4.993069  8.825757  3.460118  "
      ]
     },
     "execution_count": 506,
     "metadata": {},
     "output_type": "execute_result"
    }
   ],
   "source": [
    "if_cost_gain.head()"
   ]
  },
  {
   "cell_type": "code",
   "execution_count": 507,
   "id": "00d77488",
   "metadata": {},
   "outputs": [],
   "source": [
    "apd_cost_gain = calc_cost_gains(X_apd, tickers, final_prices)"
   ]
  },
  {
   "cell_type": "code",
   "execution_count": 509,
   "id": "1cac2d04",
   "metadata": {},
   "outputs": [
    {
     "data": {
      "text/html": [
       "<div>\n",
       "<style scoped>\n",
       "    .dataframe tbody tr th:only-of-type {\n",
       "        vertical-align: middle;\n",
       "    }\n",
       "\n",
       "    .dataframe tbody tr th {\n",
       "        vertical-align: top;\n",
       "    }\n",
       "\n",
       "    .dataframe thead th {\n",
       "        text-align: right;\n",
       "    }\n",
       "</style>\n",
       "<table border=\"1\" class=\"dataframe\">\n",
       "  <thead>\n",
       "    <tr style=\"text-align: right;\">\n",
       "      <th></th>\n",
       "      <th>MSFT_cost</th>\n",
       "      <th>MSFT_gl</th>\n",
       "      <th>ABBV_cost</th>\n",
       "      <th>ABBV_gl</th>\n",
       "      <th>XOM_cost</th>\n",
       "      <th>XOM_gl</th>\n",
       "      <th>T_cost</th>\n",
       "      <th>T_gl</th>\n",
       "      <th>MMM_cost</th>\n",
       "      <th>MMM_gl</th>\n",
       "    </tr>\n",
       "  </thead>\n",
       "  <tbody>\n",
       "    <tr>\n",
       "      <th>0</th>\n",
       "      <td>369.502820</td>\n",
       "      <td>266.555555</td>\n",
       "      <td>39.657801</td>\n",
       "      <td>14.132578</td>\n",
       "      <td>63.384933</td>\n",
       "      <td>7.993747</td>\n",
       "      <td>18.625180</td>\n",
       "      <td>5.584230</td>\n",
       "      <td>8.826047</td>\n",
       "      <td>3.018560</td>\n",
       "    </tr>\n",
       "    <tr>\n",
       "      <th>2</th>\n",
       "      <td>369.503993</td>\n",
       "      <td>263.792962</td>\n",
       "      <td>39.657247</td>\n",
       "      <td>10.945197</td>\n",
       "      <td>63.384782</td>\n",
       "      <td>7.886724</td>\n",
       "      <td>18.623226</td>\n",
       "      <td>5.497550</td>\n",
       "      <td>8.825994</td>\n",
       "      <td>3.238995</td>\n",
       "    </tr>\n",
       "    <tr>\n",
       "      <th>4</th>\n",
       "      <td>369.505014</td>\n",
       "      <td>269.133566</td>\n",
       "      <td>39.657303</td>\n",
       "      <td>9.877606</td>\n",
       "      <td>63.382509</td>\n",
       "      <td>14.545316</td>\n",
       "      <td>18.630379</td>\n",
       "      <td>5.528303</td>\n",
       "      <td>8.825341</td>\n",
       "      <td>3.554320</td>\n",
       "    </tr>\n",
       "    <tr>\n",
       "      <th>6</th>\n",
       "      <td>369.513051</td>\n",
       "      <td>287.022231</td>\n",
       "      <td>39.658069</td>\n",
       "      <td>9.864696</td>\n",
       "      <td>63.385223</td>\n",
       "      <td>10.857025</td>\n",
       "      <td>18.628627</td>\n",
       "      <td>6.559214</td>\n",
       "      <td>8.825846</td>\n",
       "      <td>4.132920</td>\n",
       "    </tr>\n",
       "    <tr>\n",
       "      <th>8</th>\n",
       "      <td>428.008698</td>\n",
       "      <td>379.135339</td>\n",
       "      <td>15.659195</td>\n",
       "      <td>3.489961</td>\n",
       "      <td>32.099426</td>\n",
       "      <td>4.870365</td>\n",
       "      <td>12.226437</td>\n",
       "      <td>3.278360</td>\n",
       "      <td>12.000395</td>\n",
       "      <td>4.704728</td>\n",
       "    </tr>\n",
       "  </tbody>\n",
       "</table>\n",
       "</div>"
      ],
      "text/plain": [
       "    MSFT_cost     MSFT_gl  ABBV_cost    ABBV_gl   XOM_cost     XOM_gl  \\\n",
       "0  369.502820  266.555555  39.657801  14.132578  63.384933   7.993747   \n",
       "2  369.503993  263.792962  39.657247  10.945197  63.384782   7.886724   \n",
       "4  369.505014  269.133566  39.657303   9.877606  63.382509  14.545316   \n",
       "6  369.513051  287.022231  39.658069   9.864696  63.385223  10.857025   \n",
       "8  428.008698  379.135339  15.659195   3.489961  32.099426   4.870365   \n",
       "\n",
       "      T_cost      T_gl   MMM_cost    MMM_gl  \n",
       "0  18.625180  5.584230   8.826047  3.018560  \n",
       "2  18.623226  5.497550   8.825994  3.238995  \n",
       "4  18.630379  5.528303   8.825341  3.554320  \n",
       "6  18.628627  6.559214   8.825846  4.132920  \n",
       "8  12.226437  3.278360  12.000395  4.704728  "
      ]
     },
     "execution_count": 509,
     "metadata": {},
     "output_type": "execute_result"
    }
   ],
   "source": [
    "apd_cost_gain.head()"
   ]
  },
  {
   "cell_type": "code",
   "execution_count": 513,
   "id": "199c4fa0",
   "metadata": {},
   "outputs": [],
   "source": [
    "gl = [if_cost_gain.apply(np.sum, axis=0).to_dict(), apd_cost_gain.apply(np.sum, axis=0).to_dict()]"
   ]
  },
  {
   "cell_type": "code",
   "execution_count": 515,
   "id": "c0c165af",
   "metadata": {},
   "outputs": [],
   "source": [
    "gl = pd.DataFrame(gl, index=['if', 'apd'])"
   ]
  },
  {
   "cell_type": "code",
   "execution_count": 516,
   "id": "bb3960f6",
   "metadata": {},
   "outputs": [
    {
     "data": {
      "text/html": [
       "<div>\n",
       "<style scoped>\n",
       "    .dataframe tbody tr th:only-of-type {\n",
       "        vertical-align: middle;\n",
       "    }\n",
       "\n",
       "    .dataframe tbody tr th {\n",
       "        vertical-align: top;\n",
       "    }\n",
       "\n",
       "    .dataframe thead th {\n",
       "        text-align: right;\n",
       "    }\n",
       "</style>\n",
       "<table border=\"1\" class=\"dataframe\">\n",
       "  <thead>\n",
       "    <tr style=\"text-align: right;\">\n",
       "      <th></th>\n",
       "      <th>MSFT_cost</th>\n",
       "      <th>MSFT_gl</th>\n",
       "      <th>ABBV_cost</th>\n",
       "      <th>ABBV_gl</th>\n",
       "      <th>XOM_cost</th>\n",
       "      <th>XOM_gl</th>\n",
       "      <th>T_cost</th>\n",
       "      <th>T_gl</th>\n",
       "      <th>MMM_cost</th>\n",
       "      <th>MMM_gl</th>\n",
       "    </tr>\n",
       "  </thead>\n",
       "  <tbody>\n",
       "    <tr>\n",
       "      <th>if</th>\n",
       "      <td>18844.800229</td>\n",
       "      <td>4679.453683</td>\n",
       "      <td>2022.540375</td>\n",
       "      <td>488.025658</td>\n",
       "      <td>3232.664737</td>\n",
       "      <td>411.178887</td>\n",
       "      <td>949.848498</td>\n",
       "      <td>332.117241</td>\n",
       "      <td>450.109893</td>\n",
       "      <td>236.082466</td>\n",
       "    </tr>\n",
       "    <tr>\n",
       "      <th>apd</th>\n",
       "      <td>16141.831781</td>\n",
       "      <td>3763.582214</td>\n",
       "      <td>2793.202523</td>\n",
       "      <td>734.176042</td>\n",
       "      <td>3655.230904</td>\n",
       "      <td>516.618024</td>\n",
       "      <td>1623.667345</td>\n",
       "      <td>647.752038</td>\n",
       "      <td>1286.038456</td>\n",
       "      <td>667.464172</td>\n",
       "    </tr>\n",
       "  </tbody>\n",
       "</table>\n",
       "</div>"
      ],
      "text/plain": [
       "        MSFT_cost      MSFT_gl    ABBV_cost     ABBV_gl     XOM_cost  \\\n",
       "if   18844.800229  4679.453683  2022.540375  488.025658  3232.664737   \n",
       "apd  16141.831781  3763.582214  2793.202523  734.176042  3655.230904   \n",
       "\n",
       "         XOM_gl       T_cost        T_gl     MMM_cost      MMM_gl  \n",
       "if   411.178887   949.848498  332.117241   450.109893  236.082466  \n",
       "apd  516.618024  1623.667345  647.752038  1286.038456  667.464172  "
      ]
     },
     "execution_count": 516,
     "metadata": {},
     "output_type": "execute_result"
    }
   ],
   "source": [
    "gl"
   ]
  },
  {
   "cell_type": "code",
   "execution_count": 517,
   "id": "46bd83de",
   "metadata": {},
   "outputs": [],
   "source": [
    "gl.to_csv('dca_strategy_gains.txt', index_label='strategy', sep=' ')"
   ]
  },
  {
   "cell_type": "code",
   "execution_count": null,
   "id": "3340332b",
   "metadata": {},
   "outputs": [],
   "source": []
  }
 ],
 "metadata": {
  "kernelspec": {
   "display_name": "Python 3",
   "language": "python",
   "name": "python3"
  },
  "language_info": {
   "codemirror_mode": {
    "name": "ipython",
    "version": 3
   },
   "file_extension": ".py",
   "mimetype": "text/x-python",
   "name": "python",
   "nbconvert_exporter": "python",
   "pygments_lexer": "ipython3",
   "version": "3.8.8"
  }
 },
 "nbformat": 4,
 "nbformat_minor": 5
}
